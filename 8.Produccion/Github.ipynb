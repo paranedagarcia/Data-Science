{
 "cells": [
  {
   "cell_type": "markdown",
   "id": "c859ef62",
   "metadata": {},
   "source": [
    "# Github\n"
   ]
  }
 ],
 "metadata": {
  "language_info": {
   "name": "python"
  }
 },
 "nbformat": 4,
 "nbformat_minor": 5
}
