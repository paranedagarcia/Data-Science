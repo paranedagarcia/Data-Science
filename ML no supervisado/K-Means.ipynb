{
 "cells": [
  {
   "cell_type": "markdown",
   "id": "5bd99d85",
   "metadata": {},
   "source": [
    "# K-Means\n"
   ]
  }
 ],
 "metadata": {
  "language_info": {
   "name": "python"
  }
 },
 "nbformat": 4,
 "nbformat_minor": 5
}
