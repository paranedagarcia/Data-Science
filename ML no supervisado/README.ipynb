{
 "cells": [
  {
   "cell_type": "markdown",
   "id": "74820d96",
   "metadata": {},
   "source": [
    "# 🔮 Machine Learning No Supervisado\n",
    "**Objetivo del módulo:** Aplicar técnicas de agrupamiento y reducción de dimensionalidad.\n",
    "\n",
    "**Resultados de Aprendizaje:**\n",
    "- Ejecutar clustering y PCA.\n",
    "\n",
    "**Contenidos:**\n",
    "1. K-Means, DBSCAN\n",
    "2. PCA, t-SNE"
   ]
  },
  {
   "cell_type": "markdown",
   "id": "9f4466fb",
   "metadata": {},
   "source": [
    "#### Machine Learning No Supervisado\n",
    "\n",
    "El *machine learning no supervisado* es una rama de la inteligencia artificial donde los algoritmos analizan datos sin que nadie les diga cuál es la respuesta correcta. Es decir, no se les da una \"respuesta\" o etiqueta previa, sino que el sistema debe encontrar patrones, similitudes o estructuras por sí mismo.\n",
    "\n",
    "En términos simples, imagina que tienes una caja llena de botones de diferentes colores y tamaños, pero no sabes nada sobre ellos. El machine learning no supervisado sería como pedirle a una máquina que agrupe los botones según sus características, sin decirle cómo hacerlo. La máquina podría agruparlos por color, tamaño o forma, dependiendo de lo que encuentre en los datos.\n",
    "\n",
    "**Ejemplos cotidianos:**\n",
    "- **Agrupación de fotos:** Tu teléfono puede organizar automáticamente tus fotos en álbumes según las personas que aparecen, sin que tú le digas quién es quién.\n",
    "- **Recomendaciones de música:** Plataformas como Spotify agrupan canciones similares para sugerirte listas de reproducción, aunque nunca hayas escuchado esas canciones antes.\n",
    "- **Detección de fraudes:** Los bancos pueden identificar transacciones inusuales agrupando comportamientos similares y detectando los que se salen de lo común.\n",
    "- **Segmentación de clientes:** Las empresas pueden dividir a sus clientes en grupos según sus hábitos de compra, para ofrecerles productos personalizados.\n",
    "\n",
    "En resumen, el machine learning no supervisado ayuda a descubrir información oculta en los datos, encontrando patrones y agrupaciones que pueden ser útiles para tomar decisiones o entender mejor la información.\n",
    "\n"
   ]
  },
  {
   "cell_type": "markdown",
   "id": "dc0336d0",
   "metadata": {},
   "source": [
    "#### K-means\n",
    "\n",
    "[Ver Kmeans](K-Means.ipynb)"
   ]
  },
  {
   "cell_type": "markdown",
   "id": "f5b6c448",
   "metadata": {},
   "source": [
    "#### DBSCAN\n",
    "\n",
    "[ver DBSCAN](DBSCAN.ipynb)"
   ]
  },
  {
   "cell_type": "markdown",
   "id": "0041e7b8",
   "metadata": {},
   "source": [
    "#### Análisis de componentes principales (PCA)\n",
    "\n",
    "El análisis de componentes principales (PCA, por sus siglas en inglés) es una técnica que nos ayuda a simplificar datos complejos.\n",
    "\n",
    "[ver PCA](PCA.ipynb)\n"
   ]
  },
  {
   "cell_type": "markdown",
   "id": "eebe898e",
   "metadata": {},
   "source": [
    "#### t-SNE"
   ]
  }
 ],
 "metadata": {
  "kernelspec": {
   "display_name": "Python 3 (ipykernel)",
   "language": "python",
   "name": "python3"
  },
  "language_info": {
   "codemirror_mode": {
    "name": "ipython",
    "version": 3
   },
   "file_extension": ".py",
   "mimetype": "text/x-python",
   "name": "python",
   "nbconvert_exporter": "python",
   "pygments_lexer": "ipython3",
   "version": "3.13.5"
  }
 },
 "nbformat": 4,
 "nbformat_minor": 5
}
