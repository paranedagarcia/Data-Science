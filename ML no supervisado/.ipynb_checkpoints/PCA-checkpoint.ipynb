{
 "cells": [
  {
   "cell_type": "markdown",
   "id": "163d9618",
   "metadata": {},
   "source": [
    "# Análisis de componentes principales (PCA)\n",
    "\n",
    "El análisis de componentes principales (PCA, por sus siglas en inglés) es una técnica que nos ayuda a simplificar datos complejos. Imagina que tienes una tabla con muchas columnas (características) y quieres entenderla mejor o visualizarla. PCA toma esas muchas columnas y las combina en unas pocas nuevas columnas (llamadas \"componentes principales\") que capturan la mayor parte de la información original. Así, puedes ver patrones o agrupar datos más fácilmente, eliminando el \"ruido\" y quedándote con lo más importante. Es como resumir un libro largo en unas pocas frases clave."
   ]
  }
 ],
 "metadata": {
  "language_info": {
   "name": "python"
  }
 },
 "nbformat": 4,
 "nbformat_minor": 5
}
