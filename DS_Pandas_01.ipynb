{
  "nbformat": 4,
  "nbformat_minor": 0,
  "metadata": {
    "colab": {
      "private_outputs": true,
      "provenance": [],
      "toc_visible": true,
      "authorship_tag": "ABX9TyPXb/5EogOo3Endtnmt+nSZ",
      "include_colab_link": true
    },
    "kernelspec": {
      "name": "python3",
      "display_name": "Python 3"
    },
    "language_info": {
      "name": "python"
    }
  },
  "cells": [
    {
      "cell_type": "markdown",
      "metadata": {
        "id": "view-in-github",
        "colab_type": "text"
      },
      "source": [
        "<a href=\"https://colab.research.google.com/github/paranedagarcia/Data-Science/blob/master/DS_Pandas_01.ipynb\" target=\"_parent\"><img src=\"https://colab.research.google.com/assets/colab-badge.svg\" alt=\"Open In Colab\"/></a>"
      ]
    },
    {
      "cell_type": "markdown",
      "source": [
        "# PANDAS\n",
        "## Librería de manipulación de datos"
      ],
      "metadata": {
        "id": "c4fldNzQ54eR"
      }
    },
    {
      "cell_type": "markdown",
      "source": [
        "## PANDAS SERIES\n",
        "Una \"Serie\" es una estructura de una sola dimensión con:\n",
        "- Datos (numéricos, texto, fechas, etc.)\n",
        "- Índices (etiquetas únicas para cada valor, por defecto 0,1,2...)\n",
        "\n",
        "Características clave:\n",
        "- Homogénea (mismo tipo de dato)\n",
        "- Índice personalizable\n",
        "- Soporta operaciones matemáticas y lógicas"
      ],
      "metadata": {
        "id": "wtNHeSOJ6iDT"
      }
    },
    {
      "cell_type": "code",
      "source": [
        "# carga de librerías\n",
        "import pandas as pd\n",
        "import numpy as np"
      ],
      "metadata": {
        "id": "sysTD3eM6GoV"
      },
      "execution_count": null,
      "outputs": []
    },
    {
      "cell_type": "code",
      "source": [
        "# Desde una lista\n",
        "s1 = pd.Series([10, 20, 30, 40])\n",
        "print(s1)"
      ],
      "metadata": {
        "id": "cpKwWmTi6DhJ"
      },
      "execution_count": null,
      "outputs": []
    },
    {
      "cell_type": "code",
      "source": [
        "# Con índices personalizados\n",
        "s2 = pd.Series(['A', 'B', 'C'], index=['x', 'y', 'z'])\n",
        "print(s2)"
      ],
      "metadata": {
        "id": "V3mEb_tf6sfT"
      },
      "execution_count": null,
      "outputs": []
    },
    {
      "cell_type": "code",
      "source": [
        "# Desde diccionario\n",
        "s3 = pd.Series({'Manzana': 120, 'Banana': 80, 'Naranja': 60})\n",
        "print(s3)"
      ],
      "metadata": {
        "id": "K0DqJDAW6vac"
      },
      "execution_count": null,
      "outputs": []
    },
    {
      "cell_type": "markdown",
      "source": [
        "### Acceso a los elementos"
      ],
      "metadata": {
        "id": "3II50JzC63PX"
      }
    },
    {
      "cell_type": "code",
      "source": [
        "# creacion de una serie llamada 'serie'\n",
        "serie = pd.Series([100, 200, 300], index=['ene', 'feb', 'mar'])"
      ],
      "metadata": {
        "id": "ywHcCvaj6-wI"
      },
      "execution_count": null,
      "outputs": []
    },
    {
      "cell_type": "code",
      "source": [
        "# Por índice numérico\n",
        "print(serie[2])"
      ],
      "metadata": {
        "id": "IQR-2VoD7Iyn"
      },
      "execution_count": null,
      "outputs": []
    },
    {
      "cell_type": "code",
      "source": [
        "# Por etiqueta\n",
        "print(serie['ene'])"
      ],
      "metadata": {
        "id": "9e9co4Cp7LB_"
      },
      "execution_count": null,
      "outputs": []
    },
    {
      "cell_type": "code",
      "source": [
        "# Slicing\n",
        "print(serie['ene':'feb'])"
      ],
      "metadata": {
        "id": "xt9QYcG17Ncm"
      },
      "execution_count": null,
      "outputs": []
    },
    {
      "cell_type": "code",
      "source": [
        "# Condicional\n",
        "print(serie[serie > 150])"
      ],
      "metadata": {
        "id": "mBJEKSOq7Pb9"
      },
      "execution_count": null,
      "outputs": []
    },
    {
      "cell_type": "markdown",
      "source": [
        "### Algunas operaciones simples"
      ],
      "metadata": {
        "id": "-88TN-Qr8tQ8"
      }
    },
    {
      "cell_type": "code",
      "source": [
        "# creamos 2 series, s1 y s2\n",
        "s1 = pd.Series([1, 2, 3])\n",
        "s2 = pd.Series([10, 20, 30])"
      ],
      "metadata": {
        "id": "IIKdgLNi8w5-"
      },
      "execution_count": null,
      "outputs": []
    },
    {
      "cell_type": "code",
      "source": [
        "# Suma\n",
        "print(s1 + s2)"
      ],
      "metadata": {
        "id": "yg0bZV1rNre6"
      },
      "execution_count": null,
      "outputs": []
    },
    {
      "cell_type": "code",
      "source": [
        "# Multiplicación por escalar\n",
        "print(s1 * 10)"
      ],
      "metadata": {
        "id": "d-5cN5w_Nvm6"
      },
      "execution_count": null,
      "outputs": []
    },
    {
      "cell_type": "code",
      "source": [
        "# Funciones matemáticas\n",
        "print(s1.apply(lambda x: x**2))"
      ],
      "metadata": {
        "id": "kwCXhRS3Nwsc"
      },
      "execution_count": null,
      "outputs": []
    },
    {
      "cell_type": "code",
      "source": [
        "# Lógica\n",
        "print(s1 > 1)"
      ],
      "metadata": {
        "id": "7mom7PMkN0IA"
      },
      "execution_count": null,
      "outputs": []
    },
    {
      "cell_type": "markdown",
      "source": [
        "### Algunos métodos útiles"
      ],
      "metadata": {
        "id": "YVJudNYR8-7d"
      }
    },
    {
      "cell_type": "code",
      "source": [
        "# metodos útiles con series\n",
        "\n",
        "s = pd.Series([1, 2, 2, 3, 3, 3, 4])\n",
        "separador = '-' * 40  # caracter separador entre cada sentencia\n",
        "\n",
        "print(f'{separador}\\n Primeros 3 valores: \\n{s.head(3)}')           # Primeros 3\n",
        "print(f'{separador}\\n Valores únicos dentro de la serie: \\n {s.unique()}')          # Valores únicos: [1,2,3,4]\n",
        "print(f'{separador}\\n Cantidad de valores unicos: {s.nunique()}')         # Cantidad de únicos: 4\n",
        "print(f'{separador}\\n Frecuencias de valores: \\n {s.value_counts()}')    # Frecuencias: 3→3, 2→2, 1→1, 4→1\n",
        "print(f'{separador}\\n Serie en orden ascendente: \\n {s.sort_values()}')     # Orden ascendente\n",
        "print(f'{separador}\\n Serie ordenada por su índice: \\n {s.sort_index()}')      # Orden por índice"
      ],
      "metadata": {
        "id": "9KC3pcy99CZJ"
      },
      "execution_count": null,
      "outputs": []
    },
    {
      "cell_type": "markdown",
      "source": [
        "## PANDAS DATAFRAME"
      ],
      "metadata": {
        "id": "ppSv20LiYUlz"
      }
    },
    {
      "cell_type": "code",
      "source": [
        "# Desde diccionario\n",
        "datos = {\n",
        "    'Nombre': ['Ana', 'Luis', 'María'],\n",
        "    'Edad': [25, 30, 22],\n",
        "    'Ciudad': ['CDMX', 'Medellín', 'Guadalajara']\n",
        "}\n",
        "\n",
        "df = pd.DataFrame(datos)\n",
        "print(df)\n"
      ],
      "metadata": {
        "id": "779sXbF4YYyQ"
      },
      "execution_count": null,
      "outputs": []
    },
    {
      "cell_type": "code",
      "source": [
        "# Desde lista de listas + nombres de columnas\n",
        "df2 = pd.DataFrame([\n",
        "    [1, 'A', True],\n",
        "    [2, 'B', False]\n",
        "], columns=['ID', 'Letra', 'Activo'])\n",
        "\n",
        "print(df2)"
      ],
      "metadata": {
        "id": "MYkgsjGhYkD6"
      },
      "execution_count": null,
      "outputs": []
    },
    {
      "cell_type": "markdown",
      "source": [
        "### Acceso a las filas"
      ],
      "metadata": {
        "id": "zCRFmWB8YomE"
      }
    },
    {
      "cell_type": "code",
      "source": [
        "# Por etiqueta (si índice es 0,1,2)\n",
        "print(df.loc[0])"
      ],
      "metadata": {
        "id": "j2hyLYNHYunQ"
      },
      "execution_count": null,
      "outputs": []
    },
    {
      "cell_type": "code",
      "source": [
        "# Por posición\n",
        "print(df.iloc[1])"
      ],
      "metadata": {
        "id": "fzvQ9l6QYv8D"
      },
      "execution_count": null,
      "outputs": []
    },
    {
      "cell_type": "code",
      "source": [
        "# Rangos\n",
        "print(df.loc[0:1])          # Filas 0 y 1\n",
        "print(df.iloc[0:2])"
      ],
      "metadata": {
        "id": "rIIyVRE2Y0tx"
      },
      "execution_count": null,
      "outputs": []
    },
    {
      "cell_type": "code",
      "source": [
        "# Filas y columnas específicas\n",
        "print(df.loc[0:1, ['Nombre', 'Edad']])"
      ],
      "metadata": {
        "id": "FKVG3twdY3nQ"
      },
      "execution_count": null,
      "outputs": []
    },
    {
      "cell_type": "markdown",
      "source": [
        "### Agregar columnas"
      ],
      "metadata": {
        "id": "jfp5-7fiY8IP"
      }
    },
    {
      "cell_type": "code",
      "source": [
        "#directamente\n",
        "df['Departamento'] = ['Jalisco', 'Antioquia', 'Jalisco']\n",
        "print(df)"
      ],
      "metadata": {
        "id": "p25cADtxY_cf"
      },
      "execution_count": null,
      "outputs": []
    },
    {
      "cell_type": "code",
      "source": [
        "# Desde cálculo\n",
        "df['Edad_doble'] = df['Edad'] * 2\n",
        "print(df)"
      ],
      "metadata": {
        "id": "XfmR4_qgZEfW"
      },
      "execution_count": null,
      "outputs": []
    },
    {
      "cell_type": "code",
      "source": [
        "# Con condición\n",
        "df['Mayor_edad'] = df['Edad'] >= 18\n",
        "print(df)"
      ],
      "metadata": {
        "id": "sXnnCZ9bZFSl"
      },
      "execution_count": null,
      "outputs": []
    },
    {
      "cell_type": "markdown",
      "source": [
        "### Eliminar columnas"
      ],
      "metadata": {
        "id": "Npf7ieE-Zpxs"
      }
    },
    {
      "cell_type": "code",
      "source": [
        "# Eliminar columna\n",
        "df_sin_dep = df.drop('Departamento', axis=1)\n",
        "print(df_sin_dep)"
      ],
      "metadata": {
        "id": "Zv_tYAxSZHfo"
      },
      "execution_count": null,
      "outputs": []
    },
    {
      "cell_type": "code",
      "source": [
        "# Eliminar fila por índice\n",
        "df_sin_luis = df.drop(1)\n",
        "print(df_sin_luis)"
      ],
      "metadata": {
        "id": "iScg1XBsZwX2"
      },
      "execution_count": null,
      "outputs": []
    },
    {
      "cell_type": "code",
      "source": [
        "# Eliminar varias columnas\n",
        "df.drop(['Edad_doble', 'Mayor_edad'], axis=1, inplace=True)"
      ],
      "metadata": {
        "id": "GGWJ-IvtZyuu"
      },
      "execution_count": null,
      "outputs": []
    },
    {
      "cell_type": "markdown",
      "source": [
        "### Selección de datos"
      ],
      "metadata": {
        "id": "I6y-f0BkZ3cW"
      }
    },
    {
      "cell_type": "code",
      "source": [
        "# selección con query\n",
        "df.query('Edad > 25 and Ciudad == \"Medellín\"')\n",
        "# O con variables\n",
        "edad_min = 20\n",
        "df.query('Edad > @edad_min')"
      ],
      "metadata": {
        "id": "O-jI8HouZ8XK"
      },
      "execution_count": null,
      "outputs": []
    }
  ]
}