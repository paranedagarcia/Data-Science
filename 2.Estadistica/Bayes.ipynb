{
 "cells": [
  {
   "cell_type": "markdown",
   "id": "1198b05a",
   "metadata": {},
   "source": [
    "# Teorema de Bayes\n"
   ]
  }
 ],
 "metadata": {
  "language_info": {
   "name": "python"
  }
 },
 "nbformat": 4,
 "nbformat_minor": 5
}
