{
 "cells": [
  {
   "cell_type": "markdown",
   "id": "3f574941",
   "metadata": {},
   "source": [
    "# Introducción a la Estadística\n",
    "\n"
   ]
  }
 ],
 "metadata": {
  "language_info": {
   "name": "python"
  }
 },
 "nbformat": 4,
 "nbformat_minor": 5
}
