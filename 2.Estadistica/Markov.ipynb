{
 "cells": [
  {
   "cell_type": "markdown",
   "id": "540a8963",
   "metadata": {},
   "source": [
    "# Cadenas de Markov\n",
    "\n"
   ]
  }
 ],
 "metadata": {
  "language_info": {
   "name": "python"
  }
 },
 "nbformat": 4,
 "nbformat_minor": 5
}
