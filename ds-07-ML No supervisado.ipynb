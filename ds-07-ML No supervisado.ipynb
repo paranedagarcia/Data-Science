{
 "cells": [
  {
   "cell_type": "markdown",
   "id": "74820d96",
   "metadata": {},
   "source": [
    "## 🔮 Módulo 7: Machine Learning No Supervisado\n",
    "**Objetivo del módulo:** Aplicar técnicas de agrupamiento y reducción de dimensionalidad.\n",
    "\n",
    "**Resultados de Aprendizaje:**\n",
    "- Ejecutar clustering y PCA.\n",
    "\n",
    "**Contenidos:**\n",
    "1. K-Means, DBSCAN\n",
    "2. PCA, t-SNE"
   ]
  },
  {
   "cell_type": "markdown",
   "id": "9f4466fb",
   "metadata": {},
   "source": [
    "#### Machine Learning No Supervisado\n"
   ]
  },
  {
   "cell_type": "markdown",
   "id": "dc0336d0",
   "metadata": {},
   "source": [
    "#### K-means"
   ]
  },
  {
   "cell_type": "markdown",
   "id": "f5b6c448",
   "metadata": {},
   "source": [
    "#### DBSCAN"
   ]
  },
  {
   "cell_type": "markdown",
   "id": "0041e7b8",
   "metadata": {},
   "source": [
    "#### Análisis de componentes principales (PCA)"
   ]
  },
  {
   "cell_type": "markdown",
   "id": "eebe898e",
   "metadata": {},
   "source": [
    "#### t-SNE"
   ]
  }
 ],
 "metadata": {
  "language_info": {
   "name": "python"
  }
 },
 "nbformat": 4,
 "nbformat_minor": 5
}
