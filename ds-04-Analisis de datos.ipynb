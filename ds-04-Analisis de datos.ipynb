{
 "cells": [
  {
   "cell_type": "markdown",
   "id": "821eb134",
   "metadata": {},
   "source": [
    "### 📊 Módulo 4: Análisis de Datos con Pandas y Numpy\n",
    "**Objetivo del módulo:** Aprender a manipular y analizar datasets.\n",
    "\n",
    "**Resultados de Aprendizaje:**\n",
    "- Crear y transformar DataFrames.\n",
    "- Limpiar y preparar datos.\n",
    "\n",
    "**Contenidos:**\n",
    "1. Numpy arrays y operaciones\n",
    "2. Introducción a Pandas\n",
    "3. Limpieza: nulos, duplicados, tipos\n",
    "4. Lectura y escritura de archivos\n",
    "5. Exploración, transformación y limpieza con pandas\n",
    "6. Transformaciones: merge, pivot, apply\n",
    "7. EDA:Correlaciones, segmentación y valores atípicos, Análisis automático"
   ]
  }
 ],
 "metadata": {
  "language_info": {
   "name": "python"
  }
 },
 "nbformat": 4,
 "nbformat_minor": 5
}
