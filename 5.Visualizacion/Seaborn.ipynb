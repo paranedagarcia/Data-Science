{
 "cells": [
  {
   "cell_type": "markdown",
   "id": "d4f37b54",
   "metadata": {},
   "source": [
    "# 📊 Seaborn\n"
   ]
  },
  {
   "cell_type": "markdown",
   "id": "39fc627e-d12f-4ac5-887a-6d1ed799f66d",
   "metadata": {},
   "source": []
  }
 ],
 "metadata": {
  "kernelspec": {
   "display_name": "Python 3 (ipykernel)",
   "language": "python",
   "name": "python3"
  },
  "language_info": {
   "codemirror_mode": {
    "name": "ipython",
    "version": 3
   },
   "file_extension": ".py",
   "mimetype": "text/x-python",
   "name": "python",
   "nbconvert_exporter": "python",
   "pygments_lexer": "ipython3",
   "version": "3.13.5"
  }
 },
 "nbformat": 4,
 "nbformat_minor": 5
}
