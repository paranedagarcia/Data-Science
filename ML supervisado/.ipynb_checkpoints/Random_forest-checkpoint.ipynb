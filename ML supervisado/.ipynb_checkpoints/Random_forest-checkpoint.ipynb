{
 "cells": [
  {
   "cell_type": "markdown",
   "id": "898f3651-26fe-4774-84a3-5585702094c4",
   "metadata": {},
   "source": [
    "# Random Forest\n",
    "\n",
    "El **Random Forest** es un algoritmo de aprendizaje supervisado basado en el ensamblado de múltiples árboles de decisión. Su objetivo es mejorar la precisión y robustez de las predicciones, tanto en tareas de clasificación como de regresión, reduciendo el sobreajuste (*overfitting*) que suelen presentar los árboles individuales.\n",
    "\n",
    "**¿Cómo funciona?**\n",
    "- Construye un conjunto (o \"bosque\") de árboles de decisión independientes, cada uno entrenado sobre una muestra aleatoria (con reemplazo, *bootstrap*) de los datos originales.\n",
    "- En cada nodo de cada árbol, la selección de la variable para dividir se realiza considerando solo un subconjunto aleatorio de las variables disponibles, lo que introduce diversidad entre los árboles.\n",
    "- Para clasificación, cada árbol vota por una clase y la predicción final es la clase más votada (mayoría). Para regresión, se promedian las predicciones de todos los árboles.\n",
    "\n",
    "**Ventajas principales:**\n",
    "- Generalmente ofrece mayor precisión que un solo árbol de decisión.\n",
    "- Es robusto frente al ruido y al sobreajuste.\n",
    "- Puede manejar grandes cantidades de variables y datos.\n",
    "- Permite estimar la importancia de cada variable en la predicción.\n",
    "\n",
    "**Desventajas:**\n",
    "- Menor interpretabilidad que un árbol único.\n",
    "- Puede ser computacionalmente costoso con muchos árboles y datos muy grandes.\n",
    "\n",
    "**Aplicaciones comunes:**  \n",
    "Detección de fraudes, diagnóstico médico, clasificación de imágenes, predicción de abandono de clientes, análisis de crédito, entre otros.\n",
    "\n",
    "**Resumen:**  \n",
    "Random Forest es una técnica poderosa y versátil, ampliamente utilizada en la industria y la investigación por su capacidad para ofrecer predicciones precisas y estables en una amplia variedad de problemas."
   ]
  }
 ],
 "metadata": {
  "kernelspec": {
   "display_name": "Python 3 (ipykernel)",
   "language": "python",
   "name": "python3"
  },
  "language_info": {
   "codemirror_mode": {
    "name": "ipython",
    "version": 3
   },
   "file_extension": ".py",
   "mimetype": "text/x-python",
   "name": "python",
   "nbconvert_exporter": "python",
   "pygments_lexer": "ipython3",
   "version": "3.13.5"
  }
 },
 "nbformat": 4,
 "nbformat_minor": 5
}
