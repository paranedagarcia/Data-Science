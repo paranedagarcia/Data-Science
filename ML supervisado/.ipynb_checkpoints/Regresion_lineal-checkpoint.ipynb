{
 "cells": [
  {
   "cell_type": "markdown",
   "id": "affdae0d",
   "metadata": {},
   "source": [
    "# Regresión Lineal\n",
    "\n",
    "La **regresión lineal** es una técnica estadística y de machine learning utilizada para modelar la relación entre una variable dependiente (o respuesta) y una o más variables independientes (o predictoras) asumiendo que esta relación es lineal. El objetivo principal es encontrar la línea recta (en el caso de una sola variable independiente) o el hiperplano (en el caso de múltiples variables) que mejor se ajusta a los datos observados, minimizando la suma de los errores cuadrados entre los valores predichos y los valores reales.\n",
    "\n",
    "En la regresión lineal simple, la relación se expresa mediante la ecuación:\n",
    "\n",
    "$$\n",
    "y = \\beta_0 + \\beta_1 x + \\epsilon\n",
    "$$\n",
    "\n",
    "donde:\n",
    "- $y$ es la variable dependiente,\n",
    "- $x$ es la variable independiente,\n",
    "- $\\beta_0$ es el intercepto,\n",
    "- $\\beta_1$ es el coeficiente de regresión (pendiente),\n",
    "- $\\epsilon$ es el término de error.\n",
    "\n",
    "En la regresión lineal múltiple, se extiende a varias variables independientes:\n",
    "\n",
    "$$\n",
    "y = \\beta_0 + \\beta_1 x_1 + \\beta_2 x_2 + \\dots + \\beta_n x_n + \\epsilon\n",
    "$$\n",
    "\n",
    "La regresión lineal es ampliamente utilizada por su simplicidad, interpretabilidad y eficiencia, aunque asume que la relación entre variables es lineal, que los errores son independientes y distribuidos normalmente, y que no existe multicolinealidad entre las variables independientes.\n",
    "\n",
    "**Ejemplo 1: Regresión lineal simple con scikit-learn**\n",
    "\n",
    "Debes instalar la librería scikit-learn para usar LinearRegression:\n",
    "pip install scikit-learn\n"
   ]
  },
  {
   "cell_type": "code",
   "execution_count": null,
   "id": "260dd791-1554-446c-b502-090dcd5689a1",
   "metadata": {},
   "outputs": [],
   "source": [
    "# Ejemplo 1: Regresión lineal simple con scikit-learn\n",
    "import numpy as np\n",
    "\n",
    "from sklearn.linear_model import LinearRegression\n",
    "import matplotlib.pyplot as plt\n",
    "\n",
    "# Datos de ejemplo\n",
    "X = np.array([1, 2, 3, 4, 5]).reshape(-1, 1)\n",
    "y = np.array([2, 4, 5, 4, 5])\n",
    "\n",
    "# Crear y entrenar el modelo\n",
    "modelo = LinearRegression()\n",
    "modelo.fit(X, y)\n",
    "\n",
    "# Predicciones\n",
    "y_pred = modelo.predict(X)\n",
    "\n",
    "# Visualización\n",
    "plt.scatter(X, y, color='blue', label='Datos reales')\n",
    "plt.plot(X, y_pred, color='red', label='Recta de regresión')\n",
    "plt.xlabel('X')\n",
    "plt.ylabel('y')\n",
    "plt.legend()\n",
    "plt.title('Regresión lineal simple')\n",
    "plt.show()"
   ]
  }
 ],
 "metadata": {
  "kernelspec": {
   "display_name": "Python 3 (ipykernel)",
   "language": "python",
   "name": "python3"
  },
  "language_info": {
   "codemirror_mode": {
    "name": "ipython",
    "version": 3
   },
   "file_extension": ".py",
   "mimetype": "text/x-python",
   "name": "python",
   "nbconvert_exporter": "python",
   "pygments_lexer": "ipython3",
   "version": "3.13.5"
  }
 },
 "nbformat": 4,
 "nbformat_minor": 5
}
