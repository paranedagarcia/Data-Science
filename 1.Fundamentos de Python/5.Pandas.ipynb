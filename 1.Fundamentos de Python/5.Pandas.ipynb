{
  "cells": [
    {
      "cell_type": "markdown",
      "metadata": {
        "colab_type": "text",
        "id": "view-in-github"
      },
      "source": [
        "<a href=\"https://colab.research.google.com/github/paranedagarcia/Data-Science/blob/master/DS_Pandas_01.ipynb\" target=\"_parent\"><img src=\"https://colab.research.google.com/assets/colab-badge.svg\" alt=\"Open In Colab\"/></a>"
      ]
    },
    {
      "cell_type": "markdown",
      "metadata": {
        "id": "c4fldNzQ54eR"
      },
      "source": [
        "# PANDAS\n",
        "## Librería de manipulación de datos\n",
        "\n",
        "**Resultados de Aprendizaje:**\n",
        "- Crear y transformar DataFrames.\n",
        "- Limpiar y preparar datos.\n",
        "\n",
        "**Contenidos:**\n",
        "1. Numpy arrays y operaciones\n",
        "2. Introducción a Pandas\n",
        "3. Limpieza: nulos, duplicados, tipos\n",
        "4. Lectura y escritura de archivos\n",
        "5. Exploración, transformación y limpieza con pandas\n",
        "6. Transformaciones: merge, pivot, apply\n",
        "7. EDA:Correlaciones, segmentación y valores atípicos, Análisis automático"
      ]
    },
    {
      "cell_type": "markdown",
      "metadata": {
        "id": "wtNHeSOJ6iDT"
      },
      "source": [
        "## PANDAS SERIES\n",
        "Una \"Serie\" es una estructura de una sola dimensión con:\n",
        "- Datos (numéricos, texto, fechas, etc.)\n",
        "- Índices (etiquetas únicas para cada valor, por defecto 0,1,2...)\n",
        "\n",
        "Características clave:\n",
        "- Homogénea (mismo tipo de dato)\n",
        "- Índice personalizable\n",
        "- Soporta operaciones matemáticas y lógicas"
      ]
    },
    {
      "cell_type": "code",
      "execution_count": null,
      "metadata": {
        "id": "sysTD3eM6GoV"
      },
      "outputs": [],
      "source": [
        "# carga de librerías\n",
        "import pandas as pd\n",
        "import numpy as np"
      ]
    },
    {
      "cell_type": "code",
      "execution_count": null,
      "metadata": {
        "id": "cpKwWmTi6DhJ"
      },
      "outputs": [],
      "source": [
        "# Desde una lista\n",
        "s1 = pd.Series([10, 20, 30, 40])\n",
        "print(s1)"
      ]
    },
    {
      "cell_type": "code",
      "execution_count": null,
      "metadata": {
        "id": "V3mEb_tf6sfT"
      },
      "outputs": [],
      "source": [
        "# Con índices personalizados\n",
        "s2 = pd.Series(['A', 'B', 'C'], index=['x', 'y', 'z'])\n",
        "print(s2)"
      ]
    },
    {
      "cell_type": "code",
      "execution_count": null,
      "metadata": {
        "id": "K0DqJDAW6vac"
      },
      "outputs": [],
      "source": [
        "# Desde diccionario\n",
        "s3 = pd.Series({'Manzana': 120, 'Banana': 80, 'Naranja': 60})\n",
        "print(s3)"
      ]
    },
    {
      "cell_type": "markdown",
      "metadata": {
        "id": "3II50JzC63PX"
      },
      "source": [
        "### Acceso a los elementos"
      ]
    },
    {
      "cell_type": "code",
      "execution_count": null,
      "metadata": {
        "id": "ywHcCvaj6-wI"
      },
      "outputs": [],
      "source": [
        "# creacion de una serie llamada 'serie'\n",
        "serie = pd.Series([100, 200, 300], index=['ene', 'feb', 'mar'])"
      ]
    },
    {
      "cell_type": "code",
      "execution_count": null,
      "metadata": {
        "id": "IQR-2VoD7Iyn"
      },
      "outputs": [],
      "source": [
        "# Por índice numérico\n",
        "print(serie[2])"
      ]
    },
    {
      "cell_type": "code",
      "execution_count": null,
      "metadata": {
        "id": "9e9co4Cp7LB_"
      },
      "outputs": [],
      "source": [
        "# Por etiqueta\n",
        "print(serie['ene'])"
      ]
    },
    {
      "cell_type": "code",
      "execution_count": null,
      "metadata": {
        "id": "xt9QYcG17Ncm"
      },
      "outputs": [],
      "source": [
        "# Slicing\n",
        "print(serie['ene':'feb'])"
      ]
    },
    {
      "cell_type": "code",
      "execution_count": null,
      "metadata": {
        "id": "mBJEKSOq7Pb9"
      },
      "outputs": [],
      "source": [
        "# Condicional\n",
        "print(serie[serie > 150])"
      ]
    },
    {
      "cell_type": "markdown",
      "metadata": {
        "id": "-88TN-Qr8tQ8"
      },
      "source": [
        "### Algunas operaciones simples"
      ]
    },
    {
      "cell_type": "code",
      "execution_count": null,
      "metadata": {
        "id": "IIKdgLNi8w5-"
      },
      "outputs": [],
      "source": [
        "# creamos 2 series, s1 y s2\n",
        "s1 = pd.Series([1, 2, 3])\n",
        "s2 = pd.Series([10, 20, 30])"
      ]
    },
    {
      "cell_type": "code",
      "execution_count": null,
      "metadata": {
        "id": "yg0bZV1rNre6"
      },
      "outputs": [],
      "source": [
        "# Suma\n",
        "print(s1 + s2)"
      ]
    },
    {
      "cell_type": "code",
      "execution_count": null,
      "metadata": {
        "id": "d-5cN5w_Nvm6"
      },
      "outputs": [],
      "source": [
        "# Multiplicación por escalar\n",
        "print(s1 * 10)"
      ]
    },
    {
      "cell_type": "code",
      "execution_count": null,
      "metadata": {
        "id": "kwCXhRS3Nwsc"
      },
      "outputs": [],
      "source": [
        "# Funciones matemáticas\n",
        "print(s1.apply(lambda x: x**2))"
      ]
    },
    {
      "cell_type": "code",
      "execution_count": null,
      "metadata": {
        "id": "7mom7PMkN0IA"
      },
      "outputs": [],
      "source": [
        "# Lógica\n",
        "print(s1 > 1)"
      ]
    },
    {
      "cell_type": "markdown",
      "metadata": {
        "id": "YVJudNYR8-7d"
      },
      "source": [
        "### Algunos métodos útiles"
      ]
    },
    {
      "cell_type": "code",
      "execution_count": null,
      "metadata": {
        "id": "9KC3pcy99CZJ"
      },
      "outputs": [],
      "source": [
        "# metodos útiles con series\n",
        "\n",
        "s = pd.Series([1, 2, 2, 3, 3, 3, 4])\n",
        "separador = '-' * 40  # caracter separador entre cada sentencia\n",
        "\n",
        "print(f'{separador}\\n Primeros 3 valores: \\n{s.head(3)}')           # Primeros 3\n",
        "print(f'{separador}\\n Valores únicos dentro de la serie: \\n {s.unique()}')          # Valores únicos: [1,2,3,4]\n",
        "print(f'{separador}\\n Cantidad de valores unicos: {s.nunique()}')         # Cantidad de únicos: 4\n",
        "print(f'{separador}\\n Frecuencias de valores: \\n {s.value_counts()}')    # Frecuencias: 3→3, 2→2, 1→1, 4→1\n",
        "print(f'{separador}\\n Serie en orden ascendente: \\n {s.sort_values()}')     # Orden ascendente\n",
        "print(f'{separador}\\n Serie ordenada por su índice: \\n {s.sort_index()}')      # Orden por índice"
      ]
    },
    {
      "cell_type": "markdown",
      "metadata": {
        "id": "ppSv20LiYUlz"
      },
      "source": [
        "## PANDAS DATAFRAME\n",
        "En un dataframe los datos se despliegan en forma bidimensional, en tablas, con columnas y filas (al estilo de Excel)."
      ]
    },
    {
      "cell_type": "code",
      "execution_count": null,
      "metadata": {
        "id": "779sXbF4YYyQ"
      },
      "outputs": [],
      "source": [
        "# Desde diccionario\n",
        "datos = {\n",
        "    'Nombre': ['Ana', 'Luis', 'María'],\n",
        "    'Edad': [25, 30, 22],\n",
        "    'Ciudad': ['CDMX', 'Medellín', 'Guadalajara']\n",
        "}\n",
        "\n",
        "df = pd.DataFrame(datos)\n",
        "print(df)\n"
      ]
    },
    {
      "cell_type": "code",
      "execution_count": null,
      "metadata": {
        "id": "MYkgsjGhYkD6"
      },
      "outputs": [],
      "source": [
        "# Desde lista de listas + nombres de columnas\n",
        "df2 = pd.DataFrame([\n",
        "    [1, 'A', True],\n",
        "    [2, 'B', False]\n",
        "], columns=['ID', 'Letra', 'Activo'])\n",
        "\n",
        "print(df2)"
      ]
    },
    {
      "cell_type": "markdown",
      "metadata": {
        "id": "zCRFmWB8YomE"
      },
      "source": [
        "### Acceso a las filas"
      ]
    },
    {
      "cell_type": "code",
      "execution_count": null,
      "metadata": {
        "id": "j2hyLYNHYunQ"
      },
      "outputs": [],
      "source": [
        "# Por etiqueta (si índice es 0,1,2)\n",
        "print(df.loc[0])"
      ]
    },
    {
      "cell_type": "code",
      "execution_count": null,
      "metadata": {
        "id": "fzvQ9l6QYv8D"
      },
      "outputs": [],
      "source": [
        "# Por posición\n",
        "print(df.iloc[1])"
      ]
    },
    {
      "cell_type": "code",
      "execution_count": null,
      "metadata": {
        "id": "rIIyVRE2Y0tx"
      },
      "outputs": [],
      "source": [
        "# Rangos\n",
        "print(df.loc[0:1])          # Filas 0 y 1\n",
        "print(df.iloc[0:2])"
      ]
    },
    {
      "cell_type": "code",
      "execution_count": null,
      "metadata": {
        "id": "FKVG3twdY3nQ"
      },
      "outputs": [],
      "source": [
        "# Filas y columnas específicas\n",
        "print(df.loc[0:1, ['Nombre', 'Edad']])"
      ]
    },
    {
      "cell_type": "markdown",
      "metadata": {
        "id": "jfp5-7fiY8IP"
      },
      "source": [
        "### Agregar columnas"
      ]
    },
    {
      "cell_type": "code",
      "execution_count": null,
      "metadata": {
        "id": "p25cADtxY_cf"
      },
      "outputs": [],
      "source": [
        "#directamente\n",
        "df['Departamento'] = ['Jalisco', 'Antioquia', 'Jalisco']\n",
        "print(df)"
      ]
    },
    {
      "cell_type": "code",
      "execution_count": null,
      "metadata": {
        "id": "XfmR4_qgZEfW"
      },
      "outputs": [],
      "source": [
        "# Desde cálculo\n",
        "df['Edad_doble'] = df['Edad'] * 2\n",
        "print(df)"
      ]
    },
    {
      "cell_type": "code",
      "execution_count": null,
      "metadata": {
        "id": "sXnnCZ9bZFSl"
      },
      "outputs": [],
      "source": [
        "# Con condición\n",
        "df['Mayor_edad'] = df['Edad'] >= 18\n",
        "print(df)"
      ]
    },
    {
      "cell_type": "markdown",
      "metadata": {
        "id": "Npf7ieE-Zpxs"
      },
      "source": [
        "### Eliminar columnas"
      ]
    },
    {
      "cell_type": "code",
      "execution_count": null,
      "metadata": {
        "id": "Zv_tYAxSZHfo"
      },
      "outputs": [],
      "source": [
        "# Eliminar columna\n",
        "df_sin_dep = df.drop('Departamento', axis=1)\n",
        "print(df_sin_dep)"
      ]
    },
    {
      "cell_type": "code",
      "execution_count": null,
      "metadata": {
        "id": "iScg1XBsZwX2"
      },
      "outputs": [],
      "source": [
        "# Eliminar fila por índice\n",
        "df_sin_luis = df.drop(1)\n",
        "print(df_sin_luis)"
      ]
    },
    {
      "cell_type": "code",
      "execution_count": null,
      "metadata": {
        "id": "GGWJ-IvtZyuu"
      },
      "outputs": [],
      "source": [
        "# Eliminar varias columnas\n",
        "df.drop(['Edad_doble', 'Mayor_edad'], axis=1, inplace=True)"
      ]
    },
    {
      "cell_type": "markdown",
      "metadata": {
        "id": "I6y-f0BkZ3cW"
      },
      "source": [
        "### Selección de datos"
      ]
    },
    {
      "cell_type": "code",
      "execution_count": null,
      "metadata": {
        "id": "O-jI8HouZ8XK"
      },
      "outputs": [],
      "source": [
        "# selección con query\n",
        "df.query('Edad > 25 and Ciudad == \"Medellín\"')\n",
        "# O con variables\n",
        "edad_min = 20\n",
        "%pip install openpyxl\n",
        "\n",
        "df.query('Edad > @edad_min')"
      ]
    },
    {
      "cell_type": "markdown",
      "metadata": {},
      "source": [
        "### Tranformar una planilla Excel en un archivo csv\n",
        "Dado una planilla particular con un formato tabular pero información adicional, se requiere realizar ciertas operacione para hacerle útil para el anáisis."
      ]
    },
    {
      "cell_type": "code",
      "execution_count": 12,
      "metadata": {},
      "outputs": [
        {
          "data": {
            "application/vnd.microsoft.datawrangler.viewer.v0+json": {
              "columns": [
                {
                  "name": "index",
                  "rawType": "int64",
                  "type": "integer"
                },
                {
                  "name": "Fecha",
                  "rawType": "object",
                  "type": "string"
                },
                {
                  "name": "Temperatura",
                  "rawType": "float64",
                  "type": "float"
                }
              ],
              "ref": "34a3f7a7-4871-408c-a7e3-29f270883d36",
              "rows": [
                [
                  "0",
                  "2024-01-02",
                  "21.8"
                ],
                [
                  "1",
                  "2024-01-03",
                  "23.0"
                ],
                [
                  "2",
                  "2024-01-04",
                  "22.6"
                ],
                [
                  "3",
                  "2024-01-05",
                  "15.6"
                ],
                [
                  "4",
                  "2024-01-06",
                  "18.3"
                ]
              ],
              "shape": {
                "columns": 2,
                "rows": 5
              }
            },
            "text/html": [
              "<div>\n",
              "<style scoped>\n",
              "    .dataframe tbody tr th:only-of-type {\n",
              "        vertical-align: middle;\n",
              "    }\n",
              "\n",
              "    .dataframe tbody tr th {\n",
              "        vertical-align: top;\n",
              "    }\n",
              "\n",
              "    .dataframe thead th {\n",
              "        text-align: right;\n",
              "    }\n",
              "</style>\n",
              "<table border=\"1\" class=\"dataframe\">\n",
              "  <thead>\n",
              "    <tr style=\"text-align: right;\">\n",
              "      <th></th>\n",
              "      <th>Fecha</th>\n",
              "      <th>Temperatura</th>\n",
              "    </tr>\n",
              "  </thead>\n",
              "  <tbody>\n",
              "    <tr>\n",
              "      <th>0</th>\n",
              "      <td>2024-01-02</td>\n",
              "      <td>21.8</td>\n",
              "    </tr>\n",
              "    <tr>\n",
              "      <th>1</th>\n",
              "      <td>2024-01-03</td>\n",
              "      <td>23.0</td>\n",
              "    </tr>\n",
              "    <tr>\n",
              "      <th>2</th>\n",
              "      <td>2024-01-04</td>\n",
              "      <td>22.6</td>\n",
              "    </tr>\n",
              "    <tr>\n",
              "      <th>3</th>\n",
              "      <td>2024-01-05</td>\n",
              "      <td>15.6</td>\n",
              "    </tr>\n",
              "    <tr>\n",
              "      <th>4</th>\n",
              "      <td>2024-01-06</td>\n",
              "      <td>18.3</td>\n",
              "    </tr>\n",
              "  </tbody>\n",
              "</table>\n",
              "</div>"
            ],
            "text/plain": [
              "        Fecha  Temperatura\n",
              "0  2024-01-02         21.8\n",
              "1  2024-01-03         23.0\n",
              "2  2024-01-04         22.6\n",
              "3  2024-01-05         15.6\n",
              "4  2024-01-06         18.3"
            ]
          },
          "execution_count": 12,
          "metadata": {},
          "output_type": "execute_result"
        }
      ],
      "source": [
        "# \n",
        "import numpy as np\n",
        "import pandas as pd\n",
        "import matplotlib.pyplot as plt\n",
        "# El problema es que al iterar por meses, el nombre 'Enero' puede tener espacios o formato diferente.\n",
        "# Mejor iterar por filas y columnas, asegurando que 'Enero' se incluya correctamente.\n",
        "archivo = '../data/TemperaturaMaximaDiaria_2024.xlsx'\n",
        "# Especificar el engine para archivos .xls antiguos\n",
        "maximas = pd.read_excel(archivo, header=1, nrows=31, decimal=',')\n",
        "\n",
        "if 'Dia' not in maximas.columns:\n",
        "    maximas.rename(columns={maximas.columns[0]: 'Dia'}, inplace=True)\n",
        "    \n",
        "fechas = []\n",
        "temperaturas = []\n",
        "\n",
        "meses = maximas.columns[1:]  # Ignora la columna 'Dia'\n",
        "\n",
        "for mes in meses:\n",
        "    for idx, row in maximas.iterrows():\n",
        "        dia = row['Dia']\n",
        "        temp = row[mes]\n",
        "        # Convertir el valor a float si es posible, reemplazando ',' por '.'\n",
        "        if isinstance(temp, str):\n",
        "            temp_clean = temp.replace(',', '.')\n",
        "            try:\n",
        "                temp_float = float(temp_clean)\n",
        "            except ValueError:\n",
        "                continue  # saltar si no se puede convertir\n",
        "        else:\n",
        "            temp_float = temp\n",
        "\n",
        "        # Solo agregar si el valor de temperatura no es nulo y es numérico\n",
        "        if pd.notnull(temp_float):\n",
        "            fechas.append(f\"{dia:02d}-{mes}-2024\")\n",
        "            temperaturas.append(temp_float)\n",
        "\n",
        "df_maximas = pd.DataFrame({'Fecha': fechas, 'Temperatura': temperaturas})\n",
        "\n",
        "# transforma la columna 'Fecha' en un formato de fecha en español\n",
        "meses_es = {\n",
        "    'Enero': 'January', 'Febrero': 'February', 'Marzo': 'March', 'Abril': 'April',\n",
        "    'Mayo': 'May', 'Junio': 'June', 'Julio': 'July', 'Agosto': 'August',\n",
        "    'Septiembre': 'September', 'Octubre': 'October', 'Noviembre': 'November', 'Diciembre': 'December'\n",
        "}\n",
        "\n",
        "df_maximas['Fecha'] = df_maximas['Fecha'].replace(meses_es, regex=True)\n",
        "df_maximas['Fecha'] = pd.to_datetime(df_maximas['Fecha'], format='%d-%B-%Y', errors='coerce')\n",
        "# formatear la columna 'Fecha' para eliminar la hora\n",
        "df_maximas['Fecha'] = df_maximas['Fecha'].dt.strftime('%Y-%m-%d')\n",
        "\n",
        "# guardar df_maximas en un archivo 'data/maximas.csv' \n",
        "# df_maximas.to_csv('../data/maximas.csv', index=False)\n",
        "df_maximas.head()\n"
      ]
    },
    {
      "cell_type": "code",
      "execution_count": null,
      "metadata": {},
      "outputs": [],
      "source": [
        "#\n",
        "archivo = '../data/TemperaturaMaximaDiaria_2024.xlsx'\n",
        "# Especificar el engine para archivos .xls antiguos\n",
        "maximas = pd.read_excel(archivo, header=1, nrows=31)\n",
        "# Renombrar la columna de los días si es necesario\n",
        "if 'Dia' not in maximas.columns:\n",
        "    maximas.rename(columns={maximas.columns[0]: 'Dia'}, inplace=True)\n",
        "\n",
        "# Crear un nuevo DataFrame con columnas 'Fecha' y 'Temperatura'\n",
        "fechas = []\n",
        "temperaturas = []\n",
        "\n",
        "meses = maximas.columns[1:]  # Ignora la columna 'Dia'\n",
        "\n",
        "for mes in meses:\n",
        "    for idx, row in maximas.iterrows():\n",
        "        dia = row['Dia']\n",
        "        temp = row[mes]\n",
        "        # Solo agregar si el valor de temperatura no es nulo y es numérico\n",
        "        if pd.notnull(temp) and isinstance(temp, (int, float, np.float64)):\n",
        "            fechas.append(f\"{dia:02d}-{mes}-2024\")\n",
        "            temperaturas.append(temp)\n",
        "\n",
        "df_maximas = pd.DataFrame({'Fecha': fechas, 'Temperatura': temperaturas})\n",
        "\n",
        "# transforma la columna 'Fecha' en un formato de fecha en español\n",
        "meses_es = {\n",
        "    'Enero': 'January', 'Febrero': 'February', 'Marzo': 'March', 'Abril': 'April',\n",
        "    'Mayo': 'May', 'Junio': 'June', 'Julio': 'July', 'Agosto': 'August',\n",
        "    'Septiembre': 'September', 'Octubre': 'October', 'Noviembre': 'November', 'Diciembre': 'December'\n",
        "}\n",
        "\n",
        "df_maximas['Fecha'] = df_maximas['Fecha'].replace(meses_es, regex=True)\n",
        "df_maximas['Fecha'] = pd.to_datetime(df_maximas['Fecha'], format='%d-%B-%Y', errors='coerce')\n",
        "# formatear la columna 'Fecha' para eliminar la hora\n",
        "df_maximas['Fecha'] = df_maximas['Fecha'].dt.strftime('%Y-%m-%d')\n",
        "\n",
        "# guardar df_maximas en un archivo 'data/maximas.csv' \n",
        "# df_maximas.to_csv('../data/maximas.csv', index=False)\n",
        "df_maximas.head()"
      ]
    }
  ],
  "metadata": {
    "colab": {
      "authorship_tag": "ABX9TyPXb/5EogOo3Endtnmt+nSZ",
      "include_colab_link": true,
      "private_outputs": true,
      "provenance": [],
      "toc_visible": true
    },
    "kernelspec": {
      "display_name": ".venv",
      "language": "python",
      "name": "python3"
    },
    "language_info": {
      "codemirror_mode": {
        "name": "ipython",
        "version": 3
      },
      "file_extension": ".py",
      "mimetype": "text/x-python",
      "name": "python",
      "nbconvert_exporter": "python",
      "pygments_lexer": "ipython3",
      "version": "3.12.7"
    }
  },
  "nbformat": 4,
  "nbformat_minor": 0
}
