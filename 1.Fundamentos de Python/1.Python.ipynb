{
 "cells": [
  {
   "cell_type": "markdown",
   "id": "d99ca04e",
   "metadata": {},
   "source": [
    "# Fundamentos de Python"
   ]
  },
  {
   "cell_type": "code",
   "execution_count": 1,
   "id": "acf27f70",
   "metadata": {
    "vscode": {
     "languageId": "markdown"
    }
   },
   "outputs": [
    {
     "ename": "NameError",
     "evalue": "name '__init__' is not defined",
     "output_type": "error",
     "traceback": [
      "\u001b[31m---------------------------------------------------------------------------\u001b[39m",
      "\u001b[31mNameError\u001b[39m                                 Traceback (most recent call last)",
      "\u001b[36mCell\u001b[39m\u001b[36m \u001b[39m\u001b[32mIn[1]\u001b[39m\u001b[32m, line 1\u001b[39m\n\u001b[32m----> \u001b[39m\u001b[32m1\u001b[39m \u001b[34;43m__init__\u001b[39;49m()\n\u001b[32m      2\u001b[39m \u001b[38;5;66;03m# En Python, __init__ es un método especial llamado \"constructor\" que se utiliza dentro de una clase.\u001b[39;00m\n\u001b[32m      3\u001b[39m \u001b[38;5;66;03m# Se ejecuta automáticamente cuando se crea una nueva instancia (objeto) de la clase.\u001b[39;00m\n\u001b[32m      4\u001b[39m \u001b[38;5;66;03m# Su función principal es inicializar los atributos del objeto.\u001b[39;00m\n\u001b[32m      6\u001b[39m \u001b[38;5;28;01mclass\u001b[39;00m\u001b[38;5;250m \u001b[39m\u001b[34;01mPersona\u001b[39;00m:\n",
      "\u001b[31mNameError\u001b[39m: name '__init__' is not defined"
     ]
    }
   ],
   "source": [
    "## __init__\n",
    "# En Python, __init__ es un método especial llamado \"constructor\" que se utiliza dentro de una clase.\n",
    "# Se ejecuta automáticamente cuando se crea una nueva instancia (objeto) de la clase.\n",
    "# Su función principal es inicializar los atributos del objeto.\n",
    "\n",
    "class Persona:\n",
    "    def __init__(self, nombre, edad):\n",
    "        self.nombre = nombre  # atributo de instancia\n",
    "        self.edad = edad      # atributo de instancia\n",
    "\n",
    "# Ejemplo de uso:\n",
    "persona1 = Persona(\"Ana\", 28)\n",
    "print(persona1.nombre)  # Salida: Ana\n",
    "print(persona1.edad)    # Salida: 28\n",
    "\n",
    "# Explicación:\n",
    "# - __init__ permite establecer valores iniciales para los atributos del objeto.\n",
    "# - self hace referencia al propio objeto que se está creando.\n",
    "# - Es útil para asegurar que cada objeto tenga los datos necesarios al ser creado."
   ]
  },
  {
   "cell_type": "code",
   "execution_count": null,
   "id": "14a353b9",
   "metadata": {
    "vscode": {
     "languageId": "markdown"
    }
   },
   "outputs": [],
   "source": [
    "## Estructura general de un programa Python\n",
    "\n",
    "Un programa en Python suele tener la siguiente estructura básica:\n",
    "\n",
    "1. **Importación de módulos**  \n",
    "    Se importan las librerías necesarias para el programa.\n",
    "    ```python\n",
    "    import math\n",
    "    import sys\n",
    "    ```\n",
    "\n",
    "2. **Definición de funciones y clases**  \n",
    "    Se definen las funciones y clases que se utilizarán.\n",
    "    ```python\n",
    "    def saludar(nombre):\n",
    "         print(f\"Hola, {nombre}!\")\n",
    "    ```\n",
    "\n",
    "3. **Bloque principal de ejecución**  \n",
    "    Se incluye el código principal, generalmente protegido por la condición `if __name__ == \"__main__\":` para evitar que se ejecute al importar el archivo como módulo.\n",
    "    ```python\n",
    "    if __name__ == \"__main__\":\n",
    "         saludar(\"Ana\")\n",
    "    ```\n",
    "\n",
    "**Resumen:**  \n",
    "- Importaciones  \n",
    "- Definición de funciones y clases  \n",
    "- Bloque principal de ejecución"
   ]
  },
  {
   "cell_type": "markdown",
   "id": "45e03c99",
   "metadata": {},
   "source": [
    "\n",
    "## Estructuras de datos\n",
    "### String\n",
    "#### Métodos\n",
    "#### Formato de strings\n",
    "### Fecha y hora\n",
    "### Conversiones\n",
    "### Expresiones regulares\n",
    "### Listas\n",
    "#### Listas y strings\n",
    "#### Listas como pilas\n",
    "#### Listas como colas\n",
    "#### Listas como comprehensión\n",
    "#### Busqueda de elementos\n",
    "#### Ordenamiento\n",
    "### Matrices\n",
    "### Tuplas\n",
    "#### Trabajo con tuplas\n",
    "#### empaquetado y desempaquetado de tuplas\n",
    "### Diccionarios\n",
    "#### Trabajo con diccionarios\n",
    "#### Métodos de diccionarios\n",
    "#### Iteración de un diccionario\n",
    "#### Claves\n",
    "\n",
    "\n"
   ]
  }
 ],
 "metadata": {
  "kernelspec": {
   "display_name": ".venv",
   "language": "python",
   "name": "python3"
  },
  "language_info": {
   "codemirror_mode": {
    "name": "ipython",
    "version": 3
   },
   "file_extension": ".py",
   "mimetype": "text/x-python",
   "name": "python",
   "nbconvert_exporter": "python",
   "pygments_lexer": "ipython3",
   "version": "3.12.7"
  }
 },
 "nbformat": 4,
 "nbformat_minor": 5
}
