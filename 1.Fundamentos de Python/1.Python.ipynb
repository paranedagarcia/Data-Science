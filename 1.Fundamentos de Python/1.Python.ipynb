{
 "cells": [
  {
   "cell_type": "markdown",
   "id": "d99ca04e",
   "metadata": {},
   "source": [
    "# Fundamentos de Python\n",
    "historia de python actualizada.\n",
    "origenes desde autor.\n"
   ]
  },
  {
   "cell_type": "markdown",
   "id": "74207fd3",
   "metadata": {},
   "source": [
    "### __init__\n",
    "En Python, __init__ es un método especial llamado \"constructor\" que se utiliza dentro de una clase.\n",
    "Se ejecuta automáticamente cuando se crea una nueva instancia (objeto) de la clase.\n",
    "Su función principal es inicializar los atributos del objeto."
   ]
  },
  {
   "cell_type": "code",
   "execution_count": null,
   "id": "8e575fe3",
   "metadata": {},
   "outputs": [],
   "source": [
    "class Persona:\n",
    "    def __init__(self, nombre, edad):\n",
    "        self.nombre = nombre  # atributo de instancia\n",
    "        self.edad = edad      # atributo de instancia"
   ]
  },
  {
   "cell_type": "code",
   "execution_count": null,
   "id": "807b7e58",
   "metadata": {},
   "outputs": [],
   "source": [
    "# Ejemplo de uso:\n",
    "persona1 = Persona(\"Ana\", 28)\n",
    "print(persona1.nombre)  # Salida: Ana\n",
    "print(persona1.edad)    # Salida: 28"
   ]
  },
  {
   "cell_type": "markdown",
   "id": "44509fdb",
   "metadata": {},
   "source": [
    "Explicación:\n",
    "- __init__ permite establecer valores iniciales para los atributos del objeto.\n",
    "- self hace referencia al propio objeto que se está creando.\n",
    "- Es útil para asegurar que cada objeto tenga los datos necesarios al ser creado."
   ]
  },
  {
   "cell_type": "code",
   "execution_count": null,
   "id": "14a353b9",
   "metadata": {
    "vscode": {
     "languageId": "markdown"
    }
   },
   "outputs": [],
   "source": [
    "## Estructura general de un programa Python\n",
    "\n",
    "Un programa en Python suele tener la siguiente estructura básica:\n",
    "\n",
    "1. **Importación de módulos**  \n",
    "    Se importan las librerías necesarias para el programa."
   ]
  },
  {
   "cell_type": "code",
   "execution_count": null,
   "id": "6cd94c36",
   "metadata": {},
   "outputs": [],
   "source": [
    "import math\n",
    "import sys"
   ]
  },
  {
   "cell_type": "code",
   "execution_count": null,
   "id": "a8b3cae2",
   "metadata": {
    "vscode": {
     "languageId": "markdown"
    }
   },
   "outputs": [],
   "source": [
    "2. **Definición de funciones y clases**  \n",
    "    Se definen las funciones y clases que se utilizarán."
   ]
  },
  {
   "cell_type": "code",
   "execution_count": null,
   "id": "87582093",
   "metadata": {},
   "outputs": [],
   "source": [
    "def saludar(nombre):\n",
    "    print(f\"Hola, {nombre}!\")"
   ]
  },
  {
   "cell_type": "markdown",
   "id": "26d99711",
   "metadata": {},
   "source": [
    "3. **Bloque principal de ejecución**  \n",
    "    Se incluye el código principal, generalmente protegido por la condición `if __name__ == \"__main__\":` para evitar que se ejecute al importar el archivo como módulo."
   ]
  },
  {
   "cell_type": "code",
   "execution_count": null,
   "id": "79e231e5",
   "metadata": {},
   "outputs": [],
   "source": [
    "if __name__ == \"__main__\":\n",
    "         saludar(\"Ana\")"
   ]
  },
  {
   "cell_type": "markdown",
   "id": "b2c96f50",
   "metadata": {},
   "source": [
    "**Resumen:**  \n",
    "- Importaciones  \n",
    "- Definición de funciones y clases  \n",
    "- Bloque principal de ejecución"
   ]
  },
  {
   "cell_type": "markdown",
   "id": "45e03c99",
   "metadata": {},
   "source": [
    "## Estructuras de datos\n",
    "### String\n",
    "\n",
    "#### Métodos\n",
    "#### Formato de strings"
   ]
  },
  {
   "cell_type": "markdown",
   "id": "6d22ed7e",
   "metadata": {},
   "source": [
    "### Fecha y hora\n",
    "### Conversiones"
   ]
  },
  {
   "cell_type": "markdown",
   "id": "147844d3",
   "metadata": {},
   "source": [
    "### Expresiones regulares\n",
    "Las **expresiones regulares** son secuencias de caracteres que forman un patrón de búsqueda. Se utilizan para encontrar, extraer o reemplazar texto que cumple ciertas reglas dentro de cadenas de caracteres.\n",
    "\n",
    "En Python, se utiliza el módulo `re` para trabajar con expresiones regulares.\n",
    "\n",
    "**Ejemplo básico:**"
   ]
  },
  {
   "cell_type": "code",
   "execution_count": null,
   "id": "99647c9d",
   "metadata": {},
   "outputs": [],
   "source": [
    "import re\n",
    "\n",
    "texto = \"Mi número es 123-456-7890\"\n",
    "patron = r\"\\d{3}-\\d{3}-\\d{4}\"\n",
    "\n",
    "resultado = re.search(patron, texto)\n",
    "if resultado:\n",
    "    print(\"Teléfono encontrado:\", resultado.group())"
   ]
  },
  {
   "cell_type": "markdown",
   "id": "1dfc6fe6",
   "metadata": {},
   "source": [
    "**Explicación del patrón:**  \n",
    "- `\\d` representa un dígito.\n",
    "- `{3}` indica que debe haber exactamente 3 dígitos.\n",
    "- Los guiones `-` son literales.\n",
    "\n",
    "**Otros ejemplos:**\n",
    "\n",
    "- Buscar todas las palabras que empiezan con \"a\":"
   ]
  },
  {
   "cell_type": "code",
   "execution_count": null,
   "id": "50fa90e2",
   "metadata": {},
   "outputs": [],
   "source": [
    "re.findall(r\"\\ba\\w+\", \"ana ama aprender algoritmos\")\n",
    "# Salida: ['ana', 'ama', 'aprender', 'algoritmos']"
   ]
  },
  {
   "cell_type": "markdown",
   "id": "03791d2a",
   "metadata": {},
   "source": [
    "- Validar un correo electrónico:"
   ]
  },
  {
   "cell_type": "code",
   "execution_count": null,
   "id": "f7e85d76",
   "metadata": {},
   "outputs": [],
   "source": [
    "correo = \"usuario@ejemplo.com\"\n",
    "patron = r\"^[\\w\\.-]+@[\\w\\.-]+\\.\\w+$\"\n",
    "re.match(patron, correo)"
   ]
  },
  {
   "cell_type": "markdown",
   "id": "c3af91b4",
   "metadata": {},
   "source": [
    "Las expresiones regulares son herramientas poderosas para el procesamiento y validación de texto."
   ]
  },
  {
   "cell_type": "markdown",
   "id": "c405e379",
   "metadata": {},
   "source": [
    "### Listas\n",
    "#### Listas y strings\n",
    "#### Listas como pilas\n",
    "#### Listas como colas\n",
    "#### Listas como comprehensión\n",
    "#### Busqueda de elementos\n",
    "#### Ordenamiento\n"
   ]
  },
  {
   "cell_type": "markdown",
   "id": "34f634ef",
   "metadata": {},
   "source": [
    "### Matrices\n",
    "Las **matrices** en Python suelen representarse como listas de listas, ya que Python no tiene un tipo de dato específico para matrices en su núcleo. Sin embargo, existen librerías como `numpy` que facilitan el trabajo con matrices.\n",
    "\n",
    "#### Ejemplos:"
   ]
  },
  {
   "cell_type": "code",
   "execution_count": null,
   "id": "b0c8e919",
   "metadata": {},
   "outputs": [],
   "source": [
    "import numpy as np\n",
    "\n",
    "# Ejemplo 1: Crear una matriz 2x2 como lista de listas\n",
    "matriz_1 = [[1, 2], [3, 4]]\n",
    "print(\"Ejemplo 1:\", matriz_1)\n",
    "\n",
    "# Ejemplo 2: Acceder a un elemento específico (fila 1, columna 2)\n",
    "print(\"Ejemplo 2:\", matriz_1[0][1])  # Salida: 2\n",
    "\n",
    "# Ejemplo 3: Recorrer una matriz e imprimir sus elementos\n",
    "print(\"Ejemplo 3:\")\n",
    "for fila in matriz_1:\n",
    "    for elemento in fila:\n",
    "        print(elemento, end=' ')\n",
    "    print()\n",
    "\n",
    "# Ejemplo 4: Crear una matriz 3x3 con ceros\n",
    "matriz_2 = [[0 for _ in range(3)] for _ in range(3)]\n",
    "print(\"Ejemplo 4:\", matriz_2)\n",
    "\n",
    "# Ejemplo 5: Sumar dos matrices 2x2\n",
    "A = [[1, 2], [3, 4]]\n",
    "B = [[5, 6], [7, 8]]\n",
    "suma = [[A[i][j] + B[i][j] for j in range(2)] for i in range(2)]\n",
    "print(\"Ejemplo 5:\", suma)\n",
    "\n",
    "# Ejemplo 6: Transponer una matriz 3x2\n",
    "matriz_3 = [[1, 2], [3, 4], [5, 6]]\n",
    "transpuesta = [[fila[i] for fila in matriz_3] for i in range(len(matriz_3[0]))]\n",
    "print(\"Ejemplo 6:\", transpuesta)\n",
    "\n",
    "# Ejemplo 7: Multiplicar una matriz 2x3 por una 3x2\n",
    "A = [[1, 2, 3], [4, 5, 6]]\n",
    "B = [[7, 8], [9, 10], [11, 12]]\n",
    "producto = [[sum(A[i][k] * B[k][j] for k in range(3)) for j in range(2)] for i in range(2)]\n",
    "print(\"Ejemplo 7:\", producto)\n",
    "\n",
    "# Ejemplo 8: Encontrar el valor máximo de una matriz\n",
    "matriz_4 = [[3, 8, 1], [4, 6, 9], [7, 2, 5]]\n",
    "maximo = max(max(fila) for fila in matriz_4)\n",
    "print(\"Ejemplo 8:\", maximo)\n",
    "\n",
    "# Ejemplo 9: Usar numpy para crear una matriz identidad 4x4\n",
    "identidad = np.eye(4)\n",
    "print(\"Ejemplo 9:\\n\", identidad)\n",
    "\n",
    "# Ejemplo 10: Calcular el determinante de una matriz 3x3 usando numpy\n",
    "matriz_5 = np.array([[2, 1, 3], [1, 0, 2], [4, 1, 8]])\n",
    "det = np.linalg.det(matriz_5)\n",
    "print(\"Ejemplo 10:\", det)"
   ]
  },
  {
   "cell_type": "markdown",
   "id": "94bee140",
   "metadata": {},
   "source": [
    "### Tuplas\n",
    "Una tupla es una estructura de datos inmutable en Python, es decir, no se puede modificar después de su creación.\n",
    "Se define usando paréntesis () o simplemente separando los elementos por comas.\n",
    "\n",
    "#### Ejemplos:"
   ]
  },
  {
   "cell_type": "code",
   "execution_count": null,
   "id": "55427308",
   "metadata": {},
   "outputs": [],
   "source": [
    "# Ejemplo 1: Crear una tupla simple\n",
    "tupla1 = (1, 2, 3)\n",
    "print(\"Ejemplo 1:\", tupla1)\n",
    "\n",
    "# Ejemplo 2: Tupla sin paréntesis\n",
    "tupla2 = 4, 5, 6\n",
    "print(\"Ejemplo 2:\", tupla2)\n",
    "\n",
    "# Ejemplo 3: Tupla con diferentes tipos de datos\n",
    "tupla3 = (\"Ana\", 28, True)\n",
    "print(\"Ejemplo 3:\", tupla3)\n",
    "\n",
    "# Ejemplo 4: Tupla anidada\n",
    "tupla4 = (1, (2, 3), 4)\n",
    "print(\"Ejemplo 4:\", tupla4)\n",
    "\n",
    "# Ejemplo 5: Acceso a elementos\n",
    "print(\"Ejemplo 5:\", tupla1[0])  # Salida: 1\n",
    "\n",
    "# Ejemplo 6: Slicing de tuplas\n",
    "print(\"Ejemplo 6:\", tupla1[1:])  # Salida: (2, 3)\n",
    "\n",
    "# Ejemplo 7: Longitud de una tupla\n",
    "print(\"Ejemplo 7:\", len(tupla3))  # Salida: 3\n",
    "\n",
    "# Ejemplo 8: Concatenación de tuplas\n",
    "tupla5 = tupla1 + tupla2\n",
    "print(\"Ejemplo 8:\", tupla5)\n",
    "\n",
    "# Ejemplo 9: Repetición de tuplas\n",
    "tupla6 = tupla1 * 2\n",
    "print(\"Ejemplo 9:\", tupla6)\n",
    "\n",
    "# Ejemplo 10: Comprobar existencia de un elemento\n",
    "print(\"Ejemplo 10:\", 2 in tupla1)  # Salida: True\n",
    "\n",
    "# Ejemplo 11: Iterar sobre una tupla\n",
    "print(\"Ejemplo 11:\")\n",
    "for elemento in tupla3:\n",
    "    print(elemento)\n",
    "\n",
    "# Ejemplo 12: Tupla de un solo elemento (¡ojo con la coma!)\n",
    "tupla7 = (42,)\n",
    "print(\"Ejemplo 12:\", tupla7, \"Tipo:\", type(tupla7))\n",
    "\n",
    "# Ejemplo 13: Desempaquetado de tuplas\n",
    "a, b, c = tupla1\n",
    "print(\"Ejemplo 13:\", a, b, c)\n",
    "\n",
    "# Ejemplo 14: Desempaquetado parcial usando *\n",
    "tupla8 = (1, 2, 3, 4, 5)\n",
    "x, *resto = tupla8\n",
    "print(\"Ejemplo 14:\", x, resto)\n",
    "\n",
    "# Ejemplo 15: Empaquetado de tuplas (packing)\n",
    "# Empaquetar es agrupar varios valores en una sola tupla\n",
    "empaquetada = 10, 20, 30\n",
    "print(\"Ejemplo 15:\", empaquetada)\n",
    "\n",
    "# Ejemplo 16: Desempaquetado de tuplas (unpacking)\n",
    "# Desempaquetar es asignar los valores de una tupla a variables individuales\n",
    "x, y, z = empaquetada\n",
    "print(\"Ejemplo 16:\", x, y, z)\n",
    "\n",
    "# Ejemplo 17: Uso de tuplas como claves en diccionarios (por ser inmutables)\n",
    "dic = {(1, 2): \"A\", (3, 4): \"B\"}\n",
    "print(\"Ejemplo 17:\", dic[(1, 2)])\n",
    "\n",
    "# Ejemplo 18: Devolver múltiples valores desde una función usando tuplas\n",
    "def operaciones(a, b):\n",
    "    return a+b, a-b, a*b, a/b\n",
    "\n",
    "suma, resta, prod, div = operaciones(8, 2)\n",
    "print(\"Ejemplo 18:\", suma, resta, prod, div)\n",
    "\n",
    "# Ejemplo 19: Enumerar elementos con tuplas\n",
    "lista = [\"a\", \"b\", \"c\"]\n",
    "for idx, valor in enumerate(lista):\n",
    "    print(\"Ejemplo 19:\", idx, valor)\n",
    "\n",
    "# Ejemplo 20: Convertir lista a tupla y viceversa\n",
    "lista2 = [1, 2, 3]\n",
    "tupla9 = tuple(lista2)\n",
    "print(\"Ejemplo 20:\", tupla9)\n",
    "lista3 = list(tupla9)\n",
    "print(\"Ejemplo 20 (continuación):\", lista3)\n"
   ]
  },
  {
   "cell_type": "markdown",
   "id": "e573936e",
   "metadata": {},
   "source": [
    "**Definición de términos:**\n",
    "- **Empaquetado (packing)**: Agrupar varios valores en una sola tupla.\n",
    "- **Desempaquetado (unpacking)**: Extraer los valores de una tupla y asignarlos a variables individuales."
   ]
  },
  {
   "cell_type": "markdown",
   "id": "384dcb4b",
   "metadata": {},
   "source": [
    "### Diccionarios\n",
    "Un diccionario en Python es una estructura de datos que almacena pares de clave-valor\n",
    "\n",
    "Permite acceder, modificar y eliminar valores asociados a una clave única."
   ]
  },
  {
   "cell_type": "code",
   "execution_count": null,
   "id": "90a25b64",
   "metadata": {},
   "outputs": [],
   "source": [
    "# Crear un diccionario simple y acceder a un valor\n",
    "persona = {\"nombre\": \"Carlos\", \"edad\": 32, \"ciudad\": \"Madrid\"}\n",
    "print(\"Ejemplo 1:\", persona[\"nombre\"])  # Salida: Carlos\n",
    "\n",
    "# Agregar y modificar elementos en un diccionario\n",
    "persona[\"profesion\"] = \"Ingeniero\"\n",
    "persona[\"edad\"] = 33\n",
    "print(\"Ejemplo 2:\", persona)\n",
    "\n",
    "# Recorrer un diccionario e imprimir sus claves y valores\n",
    "for clave, valor in persona.items():\n",
    "    print(f\"Ejemplo 3: {clave} -> {valor}\")"
   ]
  },
  {
   "cell_type": "code",
   "execution_count": null,
   "id": "4a6661a5",
   "metadata": {},
   "outputs": [],
   "source": [
    "# Ejemplo 1: Crear un diccionario y acceder a valores\n",
    "dic = {\"a\": 1, \"b\": 2, \"c\": 3}\n",
    "print(\"Ejemplo 1:\", dic[\"a\"])  # Salida: 1\n",
    "\n",
    "# Ejemplo 2: Agregar y modificar elementos\n",
    "dic[\"d\"] = 4\n",
    "dic[\"a\"] = 10\n",
    "print(\"Ejemplo 2:\", dic)\n",
    "\n",
    "# Ejemplo 3: Métodos de diccionarios\n",
    "print(\"Ejemplo 3 - keys():\", list(dic.keys()))\n",
    "print(\"Ejemplo 3 - values():\", list(dic.values()))\n",
    "print(\"Ejemplo 3 - items():\", list(dic.items()))\n",
    "print(\"Ejemplo 3 - get():\", dic.get(\"b\"))\n",
    "print(\"Ejemplo 3 - pop():\", dic.pop(\"c\"))\n",
    "print(\"Ejemplo 3 - after pop:\", dic)\n",
    "\n",
    "# Ejemplo 4: Iteración de un diccionario\n",
    "for clave in dic:\n",
    "    print(\"Ejemplo 4 - clave:\", clave, \"valor:\", dic[clave])\n",
    "\n",
    "for clave, valor in dic.items():\n",
    "    print(\"Ejemplo 4 - clave:\", clave, \"valor:\", valor)\n",
    "\n",
    "# Ejemplo 5: Comprobación de claves\n",
    "if \"b\" in dic:\n",
    "    print(\"Ejemplo 5: 'b' está en el diccionario\")\n",
    "\n",
    "# Ejemplo 6: Diccionario por comprensión (complejo)\n",
    "cuadrados = {x: x**2 for x in range(5)}\n",
    "print(\"Ejemplo 6:\", cuadrados)\n",
    "\n",
    "# Ejemplo 7: Diccionarios anidados\n",
    "alumnos = {\n",
    "    \"Ana\": {\"edad\": 20, \"nota\": 9.5},\n",
    "    \"Luis\": {\"edad\": 22, \"nota\": 8.7}\n",
    "}\n",
    "for nombre, datos in alumnos.items():\n",
    "    print(f\"Ejemplo 7: {nombre} -> Edad: {datos['edad']}, Nota: {datos['nota']}\")"
   ]
  }
 ],
 "metadata": {
  "kernelspec": {
   "display_name": ".venv",
   "language": "python",
   "name": "python3"
  },
  "language_info": {
   "codemirror_mode": {
    "name": "ipython",
    "version": 3
   },
   "file_extension": ".py",
   "mimetype": "text/x-python",
   "name": "python",
   "nbconvert_exporter": "python",
   "pygments_lexer": "ipython3",
   "version": "3.12.7"
  }
 },
 "nbformat": 4,
 "nbformat_minor": 5
}
