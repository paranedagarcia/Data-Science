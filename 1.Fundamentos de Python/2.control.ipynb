{
 "cells": [
  {
   "cell_type": "markdown",
   "id": "0887e4f1",
   "metadata": {},
   "source": [
    "# Estructuras de control\n",
    "\n",
    "# Condicionales\n",
    "\n",
    "## IF ELSE ELIF\n",
    "\n",
    "# Control de Ciclos\n",
    "\n",
    "## WHILE\n",
    "\n",
    "## FOR"
   ]
  }
 ],
 "metadata": {
  "language_info": {
   "name": "python"
  }
 },
 "nbformat": 4,
 "nbformat_minor": 5
}
