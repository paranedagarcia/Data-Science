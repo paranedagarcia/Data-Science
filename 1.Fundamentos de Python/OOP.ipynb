{
 "cells": [
  {
   "cell_type": "markdown",
   "id": "a8f79585",
   "metadata": {},
   "source": [
    "# Programación orientada a Objeto\n",
    "La Programación Orientada a Objetos en Python te permite crear código más organizado, reutilizable y fácil de mantener, modelando el mundo real con clases y objetos. Aunque suena técnico, en el fondo es como construir con bloques de LEGO: defines piezas (clases) y luego las ensamblas (objetos) para crear algo funcional.\n",
    "\n",
    "La **Programación Orientada a Objetos (POO)** es una forma de organizar el código pensando en **objetos del mundo real**. En lugar de escribir instrucciones sueltas, creamos \"plantillas\" (llamadas **clases**) que definen cómo son y cómo se comportan esos objetos.\n",
    "\n",
    "**Ejemplo cotidiano**:  \n",
    "Piensa en un **auto**. Todos los autos tienen características (color, marca, velocidad) y pueden hacer cosas (acelerar, frenar). En POO, modelamos eso con clases y objetos.\n",
    "\n",
    "## Clases y objetos\n",
    "- **Clase**: Es como un **molde** o **receta** para crear objetos. Define qué atributos y comportamientos tendrán.\n",
    "- **Objeto**: Es una **instancia** de una clase. Es decir, un objeto real creado a partir de esa receta."
   ]
  },
  {
   "cell_type": "code",
   "execution_count": null,
   "id": "f9950614",
   "metadata": {},
   "outputs": [],
   "source": [
    "# Definimos una clase llamada \"Perro\"\n",
    "class Perro:\n",
    "    pass\n",
    "\n",
    "# Creamos un objeto (instancia) de la clase Perro\n",
    "mi_perro = Perro()\n",
    "\n",
    "# Aquí, `Perro` es la clase (el molde), y `mi_perro` es un objeto real basado en ese molde."
   ]
  },
  {
   "cell_type": "markdown",
   "id": "f18b65ad",
   "metadata": {},
   "source": [
    "## Constructores\n",
    "El **constructor** es un método especial que se ejecuta **automáticamente** cuando creamos un nuevo objeto. En Python, se llama `__init__`."
   ]
  },
  {
   "cell_type": "code",
   "execution_count": null,
   "id": "956ff6ea",
   "metadata": {},
   "outputs": [],
   "source": [
    "class Perro:\n",
    "    def __init__(self, nombre, raza):\n",
    "        self.nombre = nombre\n",
    "        self.raza = raza\n",
    "\n",
    "# Creamos un perro con nombre y raza\n",
    "mi_perro = Perro(\"Firulais\", \"Labrador\")\n",
    "print(mi_perro.nombre)  # Imprime: Firulais"
   ]
  },
  {
   "cell_type": "markdown",
   "id": "62d38e91",
   "metadata": {},
   "source": [
    "El constructor permite **inicializar** los atributos del objeto al crearlo."
   ]
  },
  {
   "cell_type": "markdown",
   "id": "cff88e8c",
   "metadata": {},
   "source": [
    "\n",
    "## Función isinstance()\n",
    "Esta función nos dice si un objeto **es una instancia** de una clase determinada.\n"
   ]
  },
  {
   "cell_type": "code",
   "execution_count": null,
   "id": "0915f1c6",
   "metadata": {},
   "outputs": [],
   "source": [
    "print(isinstance(mi_perro, Perro))   # True\n",
    "print(isinstance(mi_perro, str))    # False"
   ]
  },
  {
   "cell_type": "markdown",
   "id": "22a5b78a",
   "metadata": {},
   "source": [
    "Es útil para verificar el tipo de un objeto antes de usarlo."
   ]
  },
  {
   "cell_type": "markdown",
   "id": "6d142b63",
   "metadata": {},
   "source": [
    "## Estado y atributos\n",
    "- **Atributos**: Son las **características** de un objeto (como nombre, edad, color).\n",
    "- **Estado**: Es el valor actual de todos los atributos de un objeto en un momento dado."
   ]
  },
  {
   "cell_type": "code",
   "execution_count": null,
   "id": "9b1d126d",
   "metadata": {},
   "outputs": [],
   "source": [
    "class Coche:\n",
    "    def __init__(self, color):\n",
    "        self.color = color  # atributo\n",
    "        self.velocidad = 0  # otro atributo\n",
    "\n",
    "mi_coche = Coche(\"rojo\")\n",
    "# Estado actual: color=\"rojo\", velocidad=0"
   ]
  },
  {
   "cell_type": "markdown",
   "id": "5402c313",
   "metadata": {},
   "source": [
    "## Atributos y métodos\n",
    "- **Atributos**: Datos (características).\n",
    "- **Métodos**: Funciones que pertenecen a un objeto y definen lo que puede **hacer**."
   ]
  },
  {
   "cell_type": "code",
   "execution_count": null,
   "id": "9804031e",
   "metadata": {},
   "outputs": [],
   "source": [
    "class Coche:\n",
    "    def __init__(self, color):\n",
    "        self.color = color\n",
    "        self.velocidad = 0\n",
    "\n",
    "    def acelerar(self):\n",
    "        self.velocidad += 10\n",
    "\n",
    "mi_coche = Coche(\"azul\")\n",
    "mi_coche.acelerar()  # Llamamos al método\n",
    "print(mi_coche.velocidad)  # Imprime: 10"
   ]
  },
  {
   "cell_type": "markdown",
   "id": "50f13e15",
   "metadata": {},
   "source": [
    "## Función dir()\n",
    "Muestra **todos los atributos y métodos** disponibles en un objeto.\n",
    "Es útil para explorar qué puede hacer un objeto."
   ]
  },
  {
   "cell_type": "markdown",
   "id": "c84d53af",
   "metadata": {},
   "source": [
    "print(dir(mi_coche))\n",
    "# Muestra cosas como: ['color', 'velocidad', 'acelerar', ...]"
   ]
  },
  {
   "cell_type": "markdown",
   "id": "114eaecb",
   "metadata": {},
   "source": [
    "## Métodos especiales\n",
    "Son métodos que Python llama **automáticamente** en ciertas situaciones. Comienzan y terminan con `__`.\n",
    "\n",
    "Ejemplo: `__str__` define cómo se ve el objeto al imprimirlo.\n",
    "\n",
    "Otros ejemplos: `__len__`, `__add__`, etc."
   ]
  },
  {
   "cell_type": "code",
   "execution_count": null,
   "id": "486fcc2f",
   "metadata": {},
   "outputs": [],
   "source": [
    "class Perro:\n",
    "    def __init__(self, nombre):\n",
    "        self.nombre = nombre\n",
    "\n",
    "    def __str__(self):\n",
    "        return f\"Perro llamado {self.nombre}\"\n",
    "\n",
    "mi_perro = Perro(\"Bobby\")\n",
    "print(mi_perro)  # Imprime: Perro llamado Bobby"
   ]
  },
  {
   "cell_type": "markdown",
   "id": "f751aa4e",
   "metadata": {},
   "source": [
    "## Métodos de clase y métodos estáticos\n",
    "- **Método de clase**: Está ligado a la **clase**, no al objeto. Usa `@classmethod`.\n",
    "- **Método estático**: No necesita ni la clase ni el objeto. Usa `@staticmethod`."
   ]
  },
  {
   "cell_type": "code",
   "execution_count": null,
   "id": "bad36dd1",
   "metadata": {},
   "outputs": [],
   "source": [
    "class Perro:\n",
    "    especie = \"Canis lupus\"\n",
    "\n",
    "    @classmethod\n",
    "    def obtener_especie(cls):\n",
    "        return cls.especie\n",
    "\n",
    "    @staticmethod\n",
    "    def ladrar():\n",
    "        return \"¡Guau!\"\n",
    "\n",
    "print(Perro.obtener_especie())  # Canis lupus\n",
    "print(Perro.ladrar())           # ¡Guau!"
   ]
  },
  {
   "cell_type": "markdown",
   "id": "b636b181",
   "metadata": {},
   "source": [
    "## Abstracción en Python\n",
    "La **abstracción** consiste en **ocultar los detalles complejos** y mostrar solo lo esencial.\n",
    "\n",
    "Ejemplo: Cuando usas un auto, no necesitas saber cómo funciona el motor; solo sabes que al girar la llave, arranca.\n",
    "\n",
    "En Python, usamos clases para abstraer:"
   ]
  },
  {
   "cell_type": "code",
   "execution_count": null,
   "id": "4beb3235",
   "metadata": {},
   "outputs": [],
   "source": [
    "class Cafetera:\n",
    "    def hacer_cafe(self):\n",
    "        self._calentar_agua()\n",
    "        self._moler_granos()\n",
    "        self._mezclar()\n",
    "        return \"¡Café listo!\"\n",
    "\n",
    "    def _calentar_agua(self):  # Detalle oculto\n",
    "        pass"
   ]
  },
  {
   "cell_type": "markdown",
   "id": "198cbf2e",
   "metadata": {},
   "source": [
    "El usuario solo llama a `hacer_cafe()`, sin preocuparse por los pasos internos."
   ]
  },
  {
   "cell_type": "markdown",
   "id": "2644d31c",
   "metadata": {},
   "source": [
    "## Encapsulación y ocultamiento\n",
    "La **encapsulación** protege los datos internos de un objeto. En Python, no hay verdadero \"ocultamiento\", pero usamos convenciones:\n",
    "\n",
    "- `_atributo`: \"protegido\" (no deberías tocarlo).\n",
    "- `__atributo`: \"privado\" (Python lo renombra para dificultar el acceso)."
   ]
  },
  {
   "cell_type": "code",
   "execution_count": null,
   "id": "a623f1da",
   "metadata": {},
   "outputs": [],
   "source": [
    "class CuentaBancaria:\n",
    "    def __init__(self, saldo):\n",
    "        self.__saldo = saldo  # \"privado\"\n",
    "\n",
    "    def ver_saldo(self):\n",
    "        return self.__saldo\n",
    "\n",
    "cuenta = CuentaBancaria(1000)\n",
    "print(cuenta.ver_saldo())  # 1000\n",
    "# print(cuenta.__saldo)  # ¡Error! No se puede acceder directamente"
   ]
  },
  {
   "cell_type": "markdown",
   "id": "fb5eac07",
   "metadata": {},
   "source": [
    "## Composición\n",
    "Es cuando un objeto **contiene otros objetos** como parte de sí mismo.\n",
    "\n",
    "Ejemplo: Un **auto** tiene un **motor**.\n"
   ]
  },
  {
   "cell_type": "code",
   "execution_count": null,
   "id": "d574298f",
   "metadata": {},
   "outputs": [],
   "source": [
    "class Motor:\n",
    "    def encender(self):\n",
    "        return \"Motor encendido\"\n",
    "\n",
    "class Auto:\n",
    "    def __init__(self):\n",
    "        self.motor = Motor()  # Composición\n",
    "\n",
    "mi_auto = Auto()\n",
    "print(mi_auto.motor.encender())  # Motor encendido"
   ]
  },
  {
   "cell_type": "markdown",
   "id": "8fd6f7a5",
   "metadata": {},
   "source": [
    "## Herencia y polimorfismo\n",
    "- **Herencia**: Una clase puede **heredar** atributos y métodos de otra.\n",
    "- **Polimorfismo**: Objetos de diferentes clases pueden ser tratados de forma **uniforme** si comparten una interfaz."
   ]
  },
  {
   "cell_type": "code",
   "execution_count": null,
   "id": "59c67fe3",
   "metadata": {},
   "outputs": [],
   "source": [
    "class Animal:\n",
    "    def hablar(self):\n",
    "        pass\n",
    "\n",
    "class Perro(Animal):\n",
    "    def hablar(self):\n",
    "        return \"¡Guau!\"\n",
    "\n",
    "class Gato(Animal):\n",
    "    def hablar(self):\n",
    "        return \"¡Miau!\"\n",
    "\n",
    "animales = [Perro(), Gato()]\n",
    "for animal in animales:\n",
    "    print(animal.hablar())\n",
    "# Imprime: ¡Guau! y ¡Miau!\n",
    "\n",
    "# Ambos heredan de `Animal`, pero cada uno \"habla\" de forma diferente → **polimorfismo**."
   ]
  },
  {
   "cell_type": "markdown",
   "id": "6881926c",
   "metadata": {},
   "source": [
    "## Herencia simple\n",
    "Una clase hereda de **una sola clase padre**."
   ]
  },
  {
   "cell_type": "code",
   "execution_count": null,
   "id": "198e31e4",
   "metadata": {},
   "outputs": [],
   "source": [
    "class Vehiculo:\n",
    "    def arrancar(self):\n",
    "        return \"Vehículo en marcha\"\n",
    "\n",
    "class Coche(Vehiculo):  # Herencia simple\n",
    "    pass\n",
    "\n",
    "mi_coche = Coche()\n",
    "print(mi_coche.arrancar())  # Vehículo en marcha"
   ]
  },
  {
   "cell_type": "markdown",
   "id": "a5734331",
   "metadata": {},
   "source": [
    "### Herencia múltiple\n",
    "Una clase puede heredar de **varias clases** al mismo tiempo."
   ]
  },
  {
   "cell_type": "code",
   "execution_count": null,
   "id": "995ef5f9",
   "metadata": {},
   "outputs": [],
   "source": [
    "class Volador:\n",
    "    def volar(self):\n",
    "        return \"Volando alto\"\n",
    "\n",
    "class Nadador:\n",
    "    def nadar(self):\n",
    "        return \"Nadando rápido\"\n",
    "\n",
    "class Pato(Volador, Nadador):  # Herencia múltiple\n",
    "    pass\n",
    "\n",
    "donald = Pato()\n",
    "print(donald.volar())  # Volando alto\n",
    "print(donald.nadar())  # Nadando rápido"
   ]
  },
  {
   "cell_type": "markdown",
   "id": "8de77746",
   "metadata": {},
   "source": [
    " ⚠️ Cuidado: La herencia múltiple puede volverse compleja si hay conflictos de nombres."
   ]
  }
 ],
 "metadata": {
  "kernelspec": {
   "display_name": ".venv",
   "language": "python",
   "name": "python3"
  },
  "language_info": {
   "name": "python",
   "version": "3.12.7"
  }
 },
 "nbformat": 4,
 "nbformat_minor": 5
}
