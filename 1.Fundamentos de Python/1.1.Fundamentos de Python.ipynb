{
 "cells": [
  {
   "cell_type": "markdown",
   "id": "d99ca04e",
   "metadata": {},
   "source": [
    "## Fundamentos de Python\n",
    "## 🧯 Módulo 2: Fundamentos de Programación con Python\n",
    "**Objetivo del módulo:** Introducir la lógica computacional y sintaxis básica de Python.\n",
    "\n",
    "**Resultados de Aprendizaje:**\n",
    "- Escribir scripts básicos en Python.\n",
    "- Manipular estructuras de datos.\n",
    "- Leer y escribir archivos de datos.\n",
    "\n",
    "**Contenidos:**\n",
    "1. Variables, tipos de datos, operadores\n",
    "2. Estructuras de control (if, for, while)\n",
    "3. Funciones y errores\n",
    "4. Listas, diccionarios, tuplas\n",
    "5. Archivos CSV y TXT\n",
    "6. Librerías básicas: math, datetime, os"
   ]
  }
 ],
 "metadata": {
  "kernelspec": {
   "display_name": "Python 3 (ipykernel)",
   "language": "python",
   "name": "python3"
  },
  "language_info": {
   "codemirror_mode": {
    "name": "ipython",
    "version": 3
   },
   "file_extension": ".py",
   "mimetype": "text/x-python",
   "name": "python",
   "nbconvert_exporter": "python",
   "pygments_lexer": "ipython3",
   "version": "3.13.5"
  }
 },
 "nbformat": 4,
 "nbformat_minor": 5
}
