{
 "cells": [
  {
   "cell_type": "markdown",
   "id": "355f630e",
   "metadata": {},
   "source": [
    "# Funciones\n"
   ]
  }
 ],
 "metadata": {
  "language_info": {
   "name": "python"
  }
 },
 "nbformat": 4,
 "nbformat_minor": 5
}
