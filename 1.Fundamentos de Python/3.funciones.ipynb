{
 "cells": [
  {
   "cell_type": "markdown",
   "id": "355f630e",
   "metadata": {},
   "source": [
    "# Funciones\n",
    "\n",
    "## Definición de una función\n",
    "\n",
    "## Importación de módulos\n",
    "\n",
    "## Invocación y rango\n",
    "\n",
    "## Funciones como módulo"
   ]
  }
 ],
 "metadata": {
  "language_info": {
   "name": "python"
  }
 },
 "nbformat": 4,
 "nbformat_minor": 5
}
