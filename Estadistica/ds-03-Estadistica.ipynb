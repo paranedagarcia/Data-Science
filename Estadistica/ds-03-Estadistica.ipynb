{
 "cells": [
  {
   "cell_type": "markdown",
   "id": "48c796ea",
   "metadata": {},
   "source": [
    "## 📊 Módulo 3: Fundamentos de Estadística y Probabilidades\n",
    "**Objetivo del módulo:** Introducir estadística descriptiva e inferencial.\n",
    "\n",
    "**Resultados de Aprendizaje:**\n",
    "- Calcular estadísticos básicos.\n",
    "- Aplicar pruebas de hipótesis.\n",
    "\n",
    "**Contenidos:**\n",
    "1. Introducción a la estadística\n",
    "2. Variables y escalas\n",
    "3. Tipos de datos y medidas descriptivas, Medidas descriptivas\n",
    "4. Distribuciones\n",
    "5. Distribuciones de Probabilidad y Bayes\n",
    "6. Pruebas t, chi-cuadrado, ANOVA\n",
    "7. Inferencia básica y pruebas de hipótesis\n"
   ]
  },
  {
   "cell_type": "markdown",
   "id": "aeb2ba0c",
   "metadata": {},
   "source": [
    "### Introducción a la estadística"
   ]
  },
  {
   "cell_type": "markdown",
   "id": "7f4b61d5",
   "metadata": {},
   "source": [
    "### variables y escalas"
   ]
  }
 ],
 "metadata": {
  "kernelspec": {
   "display_name": "Python 3 (ipykernel)",
   "language": "python",
   "name": "python3"
  },
  "language_info": {
   "codemirror_mode": {
    "name": "ipython",
    "version": 3
   },
   "file_extension": ".py",
   "mimetype": "text/x-python",
   "name": "python",
   "nbconvert_exporter": "python",
   "pygments_lexer": "ipython3",
   "version": "3.13.5"
  }
 },
 "nbformat": 4,
 "nbformat_minor": 5
}
