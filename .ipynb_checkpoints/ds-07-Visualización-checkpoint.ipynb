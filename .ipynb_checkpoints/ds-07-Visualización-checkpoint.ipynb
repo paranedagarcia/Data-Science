{
 "cells": [
  {
   "cell_type": "markdown",
   "id": "d4f37b54",
   "metadata": {},
   "source": [
    "### 📊 Módulo 5: Visualización de Datos\n",
    "**Objetivo del módulo:** Aprender a comunicar hallazgos mediante gráficos eficaces.\n",
    "\n",
    "**Resultados de Aprendizaje:**\n",
    "- Generar visualizaciones claras y persuasivas.\n",
    "\n",
    "**Contenidos:**\n",
    "1. Principios de visualización\n",
    "2. Gráficos con Matplotlib, Seaborn\n",
    "3. Dashboards básicos con Plotly Express\n",
    "4. Storytelling con datos"
   ]
  }
 ],
 "metadata": {
  "language_info": {
   "name": "python"
  }
 },
 "nbformat": 4,
 "nbformat_minor": 5
}
