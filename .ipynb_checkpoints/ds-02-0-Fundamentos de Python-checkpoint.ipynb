{
 "cells": [
  {
   "cell_type": "markdown",
   "id": "d99ca04e",
   "metadata": {},
   "source": [
    "## Fundamentos de Python\n",
    "## 🧯 Módulo 2: Fundamentos de Programación con Python\n",
    "**Objetivo del módulo:** Introducir la lógica computacional y sintaxis básica de Python.\n",
    "\n",
    "**Resultados de Aprendizaje:**\n",
    "- Escribir scripts básicos en Python.\n",
    "- Manipular estructuras de datos.\n",
    "- Leer y escribir archivos de datos.\n",
    "\n",
    "**Contenidos:**\n",
    "1. Variables, tipos de datos, operadores\n",
    "2. Estructuras de control (if, for, while)\n",
    "3. Funciones y errores\n",
    "4. Listas, diccionarios, tuplas\n",
    "5. Archivos CSV y TXT\n",
    "6. Librerías básicas: math, datetime, os"
   ]
  }
 ],
 "metadata": {
  "language_info": {
   "name": "python"
  }
 },
 "nbformat": 4,
 "nbformat_minor": 5
}
