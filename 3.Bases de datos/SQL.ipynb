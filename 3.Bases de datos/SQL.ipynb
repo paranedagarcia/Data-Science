{
 "cells": [
  {
   "cell_type": "markdown",
   "id": "ccf62c8d",
   "metadata": {},
   "source": [
    "# 📊 Módulo 4: SQL\n",
    "\n",
    "![](images/db-relacional.jpg)\n",
    "\n",
    "SQL es un lenguaje estructurado de consulta (Structured Query Language, en inglés). diseñado específicamente para administrar información en sistemas de gestión de bases de datos de tipo relacional.\n",
    "\n",
    "Puede considerarse un lenguaje de programación como tal, ya que cuenta con uso de variables, tipos de datos, elementos condicionales y lógicos. Es el estandar de facto para la gestión de datos y permite:\n",
    "\n",
    "-   Consultar, actualizar y reorganizar datos\n",
    "-   Crear y modificar la estructura de datos\n",
    "-   Controlar el acceso a los datos\n",
    "\n",
    "El uso de este lenguaje es altamente imperativo para todo profesional que tenga por objetivo acceder a altos volumenes y/o datos complejos.\n",
    "\n",
    "-   [SQL tutorial](https://www.w3schools.com/sql/)\n",
    "\n",
    "La historia de SQL se origina en 1970 en un paper del Dr. E. F. Codd de los laboratorios de investigación de IBM, titulado \"A Relational Model of Data for Large Shared Data Banks\" donde propuso la representación de un modelo de datos como un conjunto de tablas. Y la vinculación entre ellas mediante relaciones, lo que se conoce actualmente como el modelo relacional.\n",
    "\n",
    "Junto con lo anterior, también propuso un lenguaje llamado **DSL/Alpha** para manipular los datos en las tablas relacionadas. En los laboratorios de IBM crearon sobre este un lenguaje simplificado que denominaron SQUARE. Modificaciones posteriores derivaron en uno llamado **SEQUEL** cuyo nombre finalmente se acortó a **SQL**. Finalmente se transformó en un estándar de la industria en 1986 por la ANSI (American National Standards Institute), y ya lleva más de 40 años de uso con numerosas características añadidas desde entonces.\n",
    "\n",
    "Las últimas actualizaciones en 2016 agregan nuevas características como la integración de tecnologías como XML y JSON, y la búsqueda de filas en base a un patrón definido por una expresión regular.\n",
    "\n",
    "El núcleo central de SQL se utiliza en la gran mayoría de las bases de datos comerciales y de uso gratuito. Algunas compañías han realizado ajustes a SQL para adaptarlas de mejor manera a sus productos y originado por tanto versiones \"mejoradas\" de SQL, como ejemplo de ello PL/SQL de Oracle y Transact-SQL de Microsoft.\n",
    "\n",
    "**SQL** no es un acrónimo de **S**tandard **Q**uery **L**anguage (en español \"lenguaje estándar de consulta\"), es mas bien un cortamiento de la palabra SEQUEL y es el lenguaje estandarizado para la realización de consultas, es decir la extracción de datos desde las bases de datos. Es estándar ya que se utiliza en la totalidad de las bases conocidas, ya sea en forma nativa o en alguna variante según el fabricante de la base de datos.\n",
    "\n",
    "No es un lenguaje de programación propiamente tal, como lo son PHP, Python, Java o Javascript, por mencionar unos pocos. Esto debido a que presenta ciertas limitaciones. Este lenguaje define tanto los inputs com outputs que son ejecutadas por el motor de optimización de la base de datos.\n",
    "\n",
    "Un ejemplo de SQL en el siguiente bloque de código:"
   ]
  },
  {
   "cell_type": "code",
   "execution_count": null,
   "id": "884a7505",
   "metadata": {
    "vscode": {
     "languageId": "sql"
    }
   },
   "outputs": [],
   "source": [
    "SELECT nombre, apellido, rut, edad, genero\n",
    "FROM clientes\n",
    "WHERE edad > 20 AND genero = 'M'\n",
    "ORDER BY edad ASC"
   ]
  },
  {
   "cell_type": "markdown",
   "id": "929e8e07",
   "metadata": {},
   "source": [
    "Donde: **SELECT** permite elegir que campos (o columnas como nombre, apellido, rut, edad y genero) queremos mostrar, **FROM** nos indica desde que tabla (clientes) y donde están definidos los campos. **WHERE** permite especificar una condición (o filtro que queremos ejecutar sobre los datos resultantes) y **ORDER BY** nos permite obtener una lista ordenada por edad en forma ascendente.\n",
    "\n",
    "Por tanto, el código anterior obtendrá una lista de los clientes mayores de 20 años de género masculino y entregará los resultados en forma ordenada de menor a mayor edad. La lista contendrá las variables de nombre, apellido, rut, edad y género en ese mismo orden.\n",
    "\n",
    "SQL posee entornos específicos de uso. Posee funciones para la definición de las bases de datos (DDL), el control de acceso de usuarios (DCL), la gestión de las transacciones (TCL) y el más importante o más utilizados la manipulación de datos (DML) que posee las funciones para la obtención de los datos propiamente tal.\n",
    "\n",
    "![Mapa de visualización de las áreas de uso de SQL.](../images/sql-mapa.jpg)\n",
    "\n",
    "## Tipos de Datos\n",
    "\n",
    "Los tipos de datos soportados lo son por la mayoría de los sistemas de bases de datos que soportan SQL, salvo algunas excepciones que son particulares a un sistema específico. Tomar en cuenta que PostgreSQL utiliza adicionalmente tipos geométricos y direcciones de redes.\n",
    "\n",
    "Tipos de datos en PostgreSQL: <https://www.postgresql.org/docs/13/datatype.html>\n",
    "\n",
    "En general los tipos de datos manejados por SQL incluyen:\n",
    "\n",
    "-   Numéricos\n",
    "-   Moneda\n",
    "-   Caracter\n",
    "-   Binario\n",
    "-   Fecha/hora\n",
    "-   Lógicos (booleanos)\n",
    "-   Enumerados\n",
    "-   Geometricos\n",
    "-   Redes\n",
    "-   Bit String\n",
    "-   Texto\n",
    "-   UUID\n",
    "-   XML\n",
    "-   JSON\n",
    "-   Arreglos\n",
    "-   Compuestos (Composite)\n",
    "-   Rangos\n",
    "-   Identificadores de objetos\n"
   ]
  },
  {
   "cell_type": "code",
   "execution_count": null,
   "id": "03484e1d",
   "metadata": {
    "vscode": {
     "languageId": "sql"
    }
   },
   "outputs": [],
   "source": [
    "SELECT CAST(123 AS DECIMAL(5,2)) --returns 123.00\n",
    "SELECT CAST(12345.12 AS NUMERIC(10,5)) --returns 12345.12000"
   ]
  },
  {
   "cell_type": "markdown",
   "id": "29dd8282",
   "metadata": {},
   "source": [
    "\n",
    "**Numéricos**\n",
    "\n",
    "Los de tipo numéricos incluyen enteros y decimales con un almacenamiento desde -32768 a +32767 para \"*smallint*\", hasta +9223372036854775807 para un \"*bigint*\"\n",
    "\n",
    "**Serial**\n",
    "\n",
    "Los tipos serial (`serial, smallserial, bigserial` no son tipos efectivos sino una convención para anotar un identificador único auto incrementado). Se usa AUTO_INCREMENT en otras bases de datos.\n",
    "\n",
    "\n"
   ]
  },
  {
   "cell_type": "code",
   "execution_count": null,
   "id": "f8a596c8",
   "metadata": {
    "vscode": {
     "languageId": "sql"
    }
   },
   "outputs": [],
   "source": [
    "CREATE TABLE person (\n",
    "    id SERIAL\n",
    ")"
   ]
  },
  {
   "cell_type": "markdown",
   "id": "783e6e7d",
   "metadata": {},
   "source": [
    "\n",
    "***Char y varchar***\n"
   ]
  },
  {
   "cell_type": "code",
   "execution_count": null,
   "id": "f4d7796c",
   "metadata": {
    "vscode": {
     "languageId": "sql"
    }
   },
   "outputs": [],
   "source": [
    "CHARACTER VARYING(n), VARCHAR(n)\n",
    "CHARACTER (n), CHAR(n)\n",
    "\n",
    "SELECT CAST('ABC' AS CHAR(10)) \n",
    "-- 'ABC ' se completa con espacios a la izquierda\n",
    "SELECT CAST('ABC' AS VARCHAR(10)) \n",
    "-- 'ABC' sin espacios\n",
    "SELECT CAST('ABCDEFGHIJKLMNOPQRSTUVWXYZ' AS CHAR(10)) \n",
    "-- 'ABCDEFGHIJ' se trunca a 10 caracteres"
   ]
  },
  {
   "cell_type": "markdown",
   "id": "b4929014",
   "metadata": {},
   "source": [
    "***Arrays***"
   ]
  },
  {
   "cell_type": "code",
   "execution_count": null,
   "id": "6a217248",
   "metadata": {
    "vscode": {
     "languageId": "sql"
    }
   },
   "outputs": [],
   "source": [
    "-- declarando un arreglo\n",
    "SELECT INTEGER[];\n",
    "SELECT INTEGER[3]; \n",
    "SELECT INTEGER[][]; \n",
    "SELECT INTEGER[3][3]; \n",
    "SELECT INTEGER ARRAY; \n",
    "SELECT INTEGER ARRAY[3];\n",
    "\n",
    "-- creando un arreglo\n",
    "\n",
    "SELECT '{0,1,2}';\n",
    "SELECT '{{0,1},{1,2}}';\n",
    "SELECT ARRAY[0,1,2];\n",
    "SELECT ARRAY[ARRAY[0,1],ARRAY[1,2]];"
   ]
  },
  {
   "cell_type": "markdown",
   "id": "e17856eb",
   "metadata": {},
   "source": [
    "### Definición de Datos (DDL)\n",
    "\n",
    "Este lenguaje esta orientado a la definición de las estructuras de datos dentro de la base de datos. Las estructuras son las tablas, índices, vistas, etc. Las funciones principales son CREATE, ALTER y DROP (crear, modificar y eliminar respectivamente).\n",
    "\n",
    "#### CREATE\n",
    "\n",
    "[Ver documentación oficial](https://www.postgresql.org/docs/current/sql-createtable.html){target=\"_blank\"}\n",
    "\n",
    "Modo general de creación."
   ]
  },
  {
   "cell_type": "code",
   "execution_count": null,
   "id": "621dccd8",
   "metadata": {
    "vscode": {
     "languageId": "sql"
    }
   },
   "outputs": [],
   "source": [
    "CREATE [ [ GLOBAL | LOCAL ] { TEMPORARY | TEMP } | UNLOGGED ] \n",
    "TABLE [ IF NOT EXISTS ] table_name ( [\n",
    "  { column_name data_type [ COMPRESSION compression_method ] \n",
    "  [ COLLATE collation ] [ column_constraint [ ... ] ]\n",
    "    | table_constraint\n",
    "    | LIKE source_table [ like_option ... ] }\n",
    "    [, ... ]\n",
    "] )\n",
    "[ INHERITS ( parent_table [, ... ] ) ]\n",
    "[ PARTITION BY { RANGE | LIST | HASH } ( { column_name | ( expression ) } \n",
    "[ COLLATE collation ] [ opclass ] [, ... ] ) ]\n",
    "[ USING method ]\n",
    "[ WITH ( storage_parameter [= value] [, ... ] ) | WITHOUT OIDS ]\n",
    "[ ON COMMIT { PRESERVE ROWS | DELETE ROWS | DROP } ]\n",
    "[ TABLESPACE tablespace_name ]"
   ]
  },
  {
   "cell_type": "markdown",
   "id": "b1d6134d",
   "metadata": {},
   "source": [
    "Crear una base de datos."
   ]
  },
  {
   "cell_type": "code",
   "execution_count": null,
   "id": "b1a32f9f",
   "metadata": {
    "vscode": {
     "languageId": "sql"
    }
   },
   "outputs": [],
   "source": [
    "CREATE DATABASE midb;\n",
    "USE midb;"
   ]
  },
  {
   "cell_type": "markdown",
   "id": "525564a1",
   "metadata": {},
   "source": [
    "Crea las tablas de la base de datos \"midb\""
   ]
  },
  {
   "cell_type": "code",
   "execution_count": null,
   "id": "7639bbcf",
   "metadata": {
    "vscode": {
     "languageId": "sql"
    }
   },
   "outputs": [],
   "source": [
    "CREATE TABLE mitabla ( id INT PRIMARY KEY, nombre VARCHAR(20) );\n",
    "INSERT INTO mitabla VALUES ( 1, 'Sara' );\n",
    "INSERT INTO mitabla VALUES ( 2, 'Sonia' );\n",
    "INSERT INTO mitabla VALUES ( 3, 'Daniel' );"
   ]
  },
  {
   "cell_type": "code",
   "execution_count": null,
   "id": "0bfa1b89",
   "metadata": {
    "vscode": {
     "languageId": "sql"
    }
   },
   "outputs": [],
   "source": [
    "-- Crea una tabla \"persona\"\n",
    "CREATE TABLE person (\n",
    "person_id BIGINT NOT NULL, \n",
    "last_name VARCHAR(255) NOT NULL, \n",
    "first_name VARCHAR(255),\n",
    "age INT NOT NULL,\n",
    "PRIMARY KEY (person_id)\n",
    ");"
   ]
  },
  {
   "cell_type": "code",
   "execution_count": null,
   "id": "8356248a",
   "metadata": {
    "vscode": {
     "languageId": "sql"
    }
   },
   "outputs": [],
   "source": [
    "-- Alternativamente define la clave primaria en forma directa.\n",
    "CREATE TABLE person (\n",
    "person_id BIGINT NOT NULL PRIMARY KEY, \n",
    "last_name VARCHAR(255) NOT NULL, \n",
    "first_name VARCHAR(255),\n",
    "address VARCHAR(255),\n",
    "city VARCHAR(255)\n",
    ");"
   ]
  },
  {
   "cell_type": "markdown",
   "id": "1e67d28a",
   "metadata": {},
   "source": [
    "\n",
    "-   `NOT NULL` - este parámetro asegurará que la columna no almacene un valor `NULL`\n",
    "\n",
    "-   `UNIQUE` - este parámetro va a prevenir que la columna almacene el mismo valor más de una vez.\n",
    "\n",
    "-   `UNIQUE KEY` - este parámetro designará la columna como un identificador único.\n",
    "\n",
    "Crear una tabla a partir de otra existente. crea una nueva tabla a partir de los datos de \"persona\" con registros de personas que tengan sobre 30 años."
   ]
  },
  {
   "cell_type": "code",
   "execution_count": null,
   "id": "c9783c70",
   "metadata": {
    "vscode": {
     "languageId": "sql"
    }
   },
   "outputs": [],
   "source": [
    "CREATE TABLE people_over_30 AS SELECT * FROM persona WHERE edad > 30;"
   ]
  },
  {
   "cell_type": "markdown",
   "id": "a1ad3678",
   "metadata": {},
   "source": [
    "Crea un indice en la tbla films para el campo title"
   ]
  },
  {
   "cell_type": "code",
   "execution_count": null,
   "id": "2b3b1728",
   "metadata": {
    "vscode": {
     "languageId": "sql"
    }
   },
   "outputs": [],
   "source": [
    "CREATE UNIQUE INDEX title_idx ON films (title);"
   ]
  },
  {
   "cell_type": "markdown",
   "id": "7907f2cb",
   "metadata": {},
   "source": [
    "crea un indice basado en la expresion lower(title), lo que permite buscar en base a caracteres en minusculas -- aunque se hayan escrito en mayúsculas. Si se omitió el nombre del indice el sistema elegirá films_lower_idx."
   ]
  },
  {
   "cell_type": "code",
   "execution_count": null,
   "id": "5be534d5",
   "metadata": {
    "vscode": {
     "languageId": "sql"
    }
   },
   "outputs": [],
   "source": [
    "CREATE INDEX ON films ((lower(title)));"
   ]
  },
  {
   "cell_type": "code",
   "execution_count": null,
   "id": "f636cf79",
   "metadata": {
    "vscode": {
     "languageId": "sql"
    }
   },
   "outputs": [],
   "source": [
    "--Crea un indice con una locacion determinada.\n",
    "CREATE INDEX title_idx_spanish ON films (title COLLATE \"es_ES\");\n",
    "\n",
    "-- Crea un indice con un ordenamiento determinado.\n",
    "CREATE INDEX title_idx_nulls_low ON films (title NULLS FIRST);\n",
    "\n",
    "-- crea un rol en la base de datos.\n",
    "CREATE USER davide WITH PASSWORD 'jw8s0F4';\n",
    "\n",
    "-- Crea un rol con una password valida hasta una fecha específica. Luego de esa fecha la password no tendrá validez.\n",
    "CREATE ROLE miriam WITH LOGIN PASSWORD 'jw8s0F4' \n",
    "VALID UNTIL '2005-01-01';\n",
    "\n",
    "-- Crea un rol que puede crear bases de datos y administrar roles.\n",
    "CREATE ROLE admin WITH CREATEDB CREATEROLE;\n",
    "\n",
    "-- Crear una vista nombrada \"clientes_ventas\".\n",
    "CREATE VIEW clientes_ventas AS \n",
    "SELECT * FROM clientes\n",
    "WHERE region = \"RM\";"
   ]
  },
  {
   "cell_type": "markdown",
   "id": "f341e335",
   "metadata": {},
   "source": [
    "#### ALTER\n",
    "\n",
    "Modifica la estructura de una tabla sin suprimirla y volver a crearla, como añadir columnas, eliminar columnas o cambiar definiciones de columna (por ejemplo, longitud o los valores predeterminados).\n",
    "\n",
    "[https://www.postgresql.org/docs/current/sql-altertable.html](https://www.postgresql.org/docs/current/sql-altertable.html){target=\"_blank\"}"
   ]
  },
  {
   "cell_type": "code",
   "execution_count": null,
   "id": "4ddae720",
   "metadata": {
    "vscode": {
     "languageId": "sql"
    }
   },
   "outputs": [],
   "source": [
    "\n",
    "-- forma general\n",
    "ALTER TABLE [ IF EXISTS ] [ ONLY ] name [ * ]\n",
    "    action [, ... ]\n",
    "\n",
    "ALTER TABLE [ IF EXISTS ] [ ONLY ] name [ * ]\n",
    "    RENAME [ COLUMN ] column_name TO new_column_name\n",
    "\n",
    "ALTER TABLE [ IF EXISTS ] [ ONLY ] name [ * ]\n",
    "    RENAME CONSTRAINT constraint_name TO new_constraint_name\n",
    "\n",
    "ALTER TABLE [ IF EXISTS ] name\n",
    "    RENAME TO new_name\n",
    "\n",
    "ALTER TABLE [ IF EXISTS ] name\n",
    "    SET SCHEMA new_schema\n",
    "\n",
    "ALTER TABLE ALL IN TABLESPACE name [ OWNED BY role_name [, ... ] ]\n",
    "    SET TABLESPACE new_tablespace [ NOWAIT ]\n",
    "\n",
    "ALTER TABLE [ IF EXISTS ] name\n",
    "    ATTACH PARTITION partition_name { \n",
    "    FOR VALUES partition_bound_spec | DEFAULT }\n",
    "\n",
    "ALTER TABLE [ IF EXISTS ] name\n",
    "    DETACH PARTITION partition_name [ CONCURRENTLY | FINALIZE ]"
   ]
  },
  {
   "cell_type": "markdown",
   "id": "7a1fa7a9",
   "metadata": {},
   "source": [
    "Agrega una columna direccion a la tabla clientes, como resultado todos los registros tendran ese campo nulo."
   ]
  },
  {
   "cell_type": "code",
   "execution_count": null,
   "id": "8d865ada",
   "metadata": {
    "vscode": {
     "languageId": "sql"
    }
   },
   "outputs": [],
   "source": [
    "ALTER TABLE clientes ADD COLUMN direccion varchar(30);"
   ]
  },
  {
   "cell_type": "markdown",
   "id": "cd253d4f",
   "metadata": {},
   "source": [
    "Todos los registros existentes recibiran la fecha actual en el nuevo campo fecha los nuevos registros tendran la fecha en que se ingresen."
   ]
  },
  {
   "cell_type": "code",
   "execution_count": null,
   "id": "8200b728",
   "metadata": {
    "vscode": {
     "languageId": "sql"
    }
   },
   "outputs": [],
   "source": [
    "ALTER TABLE clientes\n",
    "ADD COLUMN fecha timestamp with time zone DEFAULT now();"
   ]
  },
  {
   "cell_type": "markdown",
   "id": "62bb98f8",
   "metadata": {},
   "source": [
    "Agregar una columa con un valor inicial que luego cambiará a otro valor para los nuevos registros. Los registros previamente existentes recibirán el valor 'old', en cambio los nuevos tendran el valor 'current'."
   ]
  },
  {
   "cell_type": "code",
   "execution_count": null,
   "id": "2b47f9e9",
   "metadata": {
    "vscode": {
     "languageId": "sql"
    }
   },
   "outputs": [],
   "source": [
    "ALTER TABLE ventas\n",
    "ADD COLUMN status varchar(30) DEFAULT 'old',\n",
    "ALTER COLUMN status SET default 'current';"
   ]
  },
  {
   "cell_type": "code",
   "execution_count": null,
   "id": "dfb786e0",
   "metadata": {
    "vscode": {
     "languageId": "sql"
    }
   },
   "outputs": [],
   "source": [
    "--Eliminar una columna de una tabla.\n",
    "ALTER TABLE distributors DROP COLUMN address RESTRICT;\n",
    "\n",
    "--Realizar cambio en dos columnas a la vez.\n",
    "ALTER TABLE clientes\n",
    "ALTER COLUMN direccion TYPE varchar(80),\n",
    "ALTER COLUMN nombre TYPE varchar(100);\n",
    "\n",
    "--Renombrar una columa o una tabla.\n",
    "ALTER TABLE clientes RENAME COLUMN direccion TO ciudad;\n",
    "\n",
    "ALTER TABLE clientes RENAME TO personas;\n",
    "\n",
    "--Agregar una restriccion a una columna o remover una restricción.\n",
    "ALTER TABLE clientes ALTER COLUMN calle SET NOT NULL;\n",
    "\n",
    "ALTER TABLE clientes ALTER COLUMN calle DROP NOT NULL;\n",
    "\n",
    "--Agregar una clave foránea a una tabla.\n",
    "ALTER TABLE clientes ADD CONSTRAINT clidireccion \n",
    "FOREIGN KEY (direccion) REFERENCES direcciones (direccion);\n",
    "\n",
    "--Agregar una clave primaria a un tabla.\n",
    "ALTER TABLE clientes ADD PRIMARY KEY (cli_id);"
   ]
  },
  {
   "cell_type": "markdown",
   "id": "bd9790c9",
   "metadata": {},
   "source": [
    "#### DROP\n",
    "\n",
    "Elimina objetos de la base de datos."
   ]
  },
  {
   "cell_type": "code",
   "execution_count": null,
   "id": "2bb76599",
   "metadata": {
    "vscode": {
     "languageId": "sql"
    }
   },
   "outputs": [],
   "source": [
    "-- elimina una tabla personas\n",
    "DROP TABLE personas;\n",
    "\n",
    "--Elimina la base de datos.\n",
    "DROP DATABASE midb;\n",
    "\n",
    "-- Elimina una vista llamada clientes_ventas.\n",
    "DROP VIEW clientes_ventas;"
   ]
  },
  {
   "cell_type": "markdown",
   "id": "a418e8d2",
   "metadata": {},
   "source": [
    "#### TRUNCATE\n",
    "\n",
    "Elimina los datos de una tabla sin alterar la estructura de la tabla."
   ]
  },
  {
   "cell_type": "code",
   "execution_count": null,
   "id": "5300a50d",
   "metadata": {
    "vscode": {
     "languageId": "sql"
    }
   },
   "outputs": [],
   "source": [
    "TRUNCATE TABLE clientes;"
   ]
  },
  {
   "cell_type": "markdown",
   "id": "14c08eb2",
   "metadata": {},
   "source": [
    "### Manipulación de Datos (DML)\n",
    "\n",
    "Un lenguaje de manipulación de datos (Data Manipulation Language, o DML en inglés) es una parte del lenguaje SQL que incluido por el sistema de gestión de base de datos permite a los usuarios llevar a cabo las tareas de consulta o manipulación de los datos, organizados por el modelo de datos adecuado.\n",
    "\n",
    "DML esta orientado por tanto a la interacción con los datos propiamente tales dentro de la base de datos. Esta interacción incluye la selección, inserción, actualización y eliminación de datos (registros dentro de una BD).\n",
    "\n",
    "### SELECT\n",
    "\n",
    "SELECT permite recuperar registros desde cero o más tablas. WHERE filtra los registros antes del agrupamiento y HAVING filtra los grupos creados por GROUP BY.\n",
    "\n",
    "**SELECT en PostgreSQL**"
   ]
  },
  {
   "cell_type": "code",
   "execution_count": null,
   "id": "c5604fcd",
   "metadata": {
    "vscode": {
     "languageId": "sql"
    }
   },
   "outputs": [],
   "source": [
    "[ WITH [ RECURSIVE ] with_query [, ...] ] \n",
    "SELECT [ ALL | DISTINCT [ ON ( expression [, ...] ) ] ] * | \n",
    "expression [ [ AS ] output_name ] [, ...] \n",
    "[ FROM from_item [, ...] ] \n",
    "[ WHERE condition ] \n",
    "[ GROUP BY expression [, ...] ] \n",
    "[ HAVING condition [, ...] ] \n",
    "[ WINDOW window_name AS ( window_definition ) [, ...] ] \n",
    "[ { UNION | INTERSECT | EXCEPT } [ ALL ] select ] \n",
    "[ ORDER BY expression [ ASC | DESC | USING operator ] \n",
    "[ NULLS { FIRST | LAST } ] [, ...] ] [ LIMIT { count | ALL } ] \n",
    "[ OFFSET start [ ROW | ROWS ] ] [ FETCH { FIRST | NEXT } [ count ] \n",
    "{ ROW | ROWS } ONLY ] \n",
    "[ FOR { UPDATE | SHARE } [ OF table_name [, ...] ] \n",
    "[ NOWAIT ] [...] ]column2, ... \n",
    "FROM table_name;\n",
    "\n",
    "SELECT f.title, f.did, d.name, f.date_prod, f.kind\n",
    "    FROM distributors d, films f\n",
    "    WHERE f.did = d.did\n",
    "\n",
    "SELECT kind, sum(len) AS total\n",
    "    FROM films\n",
    "    GROUP BY kind\n",
    "    HAVING sum(len) < interval '5 hours';\n",
    "\n",
    "SELECT *  FROM T_CLIENTES;\n",
    "SELECT *  FROM T_PEDIDOS;\n",
    "SELECT *  FROM T_PRODUCTOS;"
   ]
  },
  {
   "cell_type": "markdown",
   "id": "073e0cf7",
   "metadata": {},
   "source": [
    "### INSERT\n",
    "\n",
    "Realiza operaciones de ingreso de valores dentro de la tabla."
   ]
  },
  {
   "cell_type": "code",
   "execution_count": null,
   "id": "1b62dec2",
   "metadata": {
    "vscode": {
     "languageId": "sql"
    }
   },
   "outputs": [],
   "source": [
    "INSERT INTO table_name VALUES (value1, value2, value3)\n",
    "\n",
    "INSERT INTO table_name (column1, column2, column3,..) \n",
    "VALUES ( value1, value2, value3,..);\n",
    "\n",
    "insert into UTILES  (codigo, descripcion, fecalta) \n",
    "values (1,'Lapiz',sysdate);\n",
    "insert into UTILES  (codigo, descripcion, fecalta) \n",
    "values (2,'Goma',sysdate);\n",
    "insert into UTILES  (codigo, descripcion, fecalta) \n",
    "values (3,'Sacapuntas',null);\n",
    "insert into UTILES  values (4,'regla',sysdate);\n",
    "insert into UTILES  values (5,'escuadra',null);\n",
    "insert into UTILES  (codigo, descripcion)  \n",
    "values (6,'transportador');\n",
    "insert into UTILES  (descripcion, codigo)  \n",
    "values ('compas',7);\n",
    "insert into UTILES  (fecalta, codigo, descripcion ) \n",
    "values (sysdate, 8, 'estuche');"
   ]
  },
  {
   "cell_type": "markdown",
   "id": "1e708ae4",
   "metadata": {},
   "source": [
    "### BULK INSERT\n",
    "\n",
    "Realiza operaciones de tipo INSERT desde archivos externos.\n",
    "\n",
    "SQL Server 2016 en adelante"
   ]
  },
  {
   "cell_type": "code",
   "execution_count": null,
   "id": "085edd87",
   "metadata": {
    "vscode": {
     "languageId": "sql"
    }
   },
   "outputs": [],
   "source": [
    "BULK INSERT TableName FROM 'filePath’ \n",
    "WITH ( FORMAT = ‘CSV’, FIELDTERMINATOR = ‘,’, \n",
    "ROWTERMINATOR = '\\n’, \n",
    "ROWS_PER_BATCH = 10000, FIRSTROW = 2, TABLOCK );"
   ]
  },
  {
   "cell_type": "markdown",
   "id": "c922369b",
   "metadata": {},
   "source": [
    "### UPDATE\n",
    "\n",
    "La sentencia UPDATE es utilizada para actualizar los datos de una tabla existente dentro de la base de datos.\n",
    "\n",
    "Se pueda actualizar desde una a varias columnas según se requiera. Si se omite la claúsula WHERE, el comando afecta a todos los registros de la tabla."
   ]
  },
  {
   "cell_type": "code",
   "execution_count": null,
   "id": "f417b5ad",
   "metadata": {
    "vscode": {
     "languageId": "sql"
    }
   },
   "outputs": [],
   "source": [
    "UPDATE estudiantes SET NAME = 'PRATIK' WHERE id = 20;\n",
    "\n",
    "UPDATE table_name SET column1 = value1, column2 = value2 \n",
    "WHERE condition;"
   ]
  },
  {
   "cell_type": "markdown",
   "id": "85205dc3",
   "metadata": {},
   "source": [
    "donde: + table_name: nombre de la tabla + columnN: nombre de la columna + valueN: nuevo valor de la columna + condition: condición requerida para seleccionar las filas que deben ser actualizadas."
   ]
  },
  {
   "cell_type": "markdown",
   "id": "45803499",
   "metadata": {},
   "source": [
    "UPDATE nombre_tabla \n",
    "SET nombre_columna = valor  \n",
    "[ WHERE condición [ AND condición] ]  \n",
    "\n",
    "UPDATE UTILES SET  descripcion =  ‘Regla 30 cm’ \n",
    "  WHERE  codigo= 4;\n",
    "  \n",
    "UPDATE UTILES SET  fecalta =  sysdate;\n",
    "\n",
    "UPDATE utiles SET fecalta = sysdate, descripcion=‘regla 30 cm.’ \n",
    "  WHERE código = 4;"
   ]
  },
  {
   "cell_type": "markdown",
   "id": "777e895e",
   "metadata": {},
   "source": [
    "### DELETE\n",
    "\n",
    "Realiza operaciones de eliminación de registros desde las tablas."
   ]
  },
  {
   "cell_type": "code",
   "execution_count": null,
   "id": "efb828b9",
   "metadata": {
    "vscode": {
     "languageId": "sql"
    }
   },
   "outputs": [],
   "source": [
    "DELETE FROM nombre_tabla \n",
    "WHERE nombre_columna = valor\n",
    "\n",
    "DELETE FROM personas \n",
    "WHERE nombre = 'LUIS' AND apellido1 = 'LOPEZ' \n",
    "AND apellido2 = 'PEREZ'\n",
    "\n",
    "DELETE nombre_tabla \n",
    "[ WHERE condición [ AND condición] ]\n",
    "\n",
    "delete UTILES WHERE  codigo= 7;\n",
    "delete UTILES;"
   ]
  },
  {
   "cell_type": "markdown",
   "id": "5c2ab098",
   "metadata": {},
   "source": [
    "## Ejemplos\n",
    "\n",
    "En el primer ejemplo de código, se devuelven todas las filas (no se especifica la cláusula WHERE) y todas las columnas (con \\*) de la tabla Product de la base de datos AdventureWorks2012."
   ]
  },
  {
   "cell_type": "code",
   "execution_count": null,
   "id": "996d41e5",
   "metadata": {
    "vscode": {
     "languageId": "sql"
    }
   },
   "outputs": [],
   "source": [
    "USE AdventureWorks2012;\n",
    "GO\n",
    "SELECT *\n",
    "FROM Production.Product\n",
    "ORDER BY Name ASC;\n",
    "\n",
    "USE AdventureWorks2012;\n",
    "GO\n",
    "SELECT p.*\n",
    "FROM Production.Product AS p\n",
    "ORDER BY Name ASC;\n",
    "GO\n",
    "\n",
    "\n",
    "--Selecciona los primeros 5 registros de ordenes.\n",
    "SELECT * FROM ordenes LIMIT 5;\n",
    "\n",
    "--Cuenta de los distintos productos desde ventas.\n",
    "SELECT count(distinct idproducto)\n",
    "FROM ventas;\n",
    "\n",
    "--Las ventas realizadas del producto id=89\n",
    "SELECT idproducto, sum(cantidad) as total\n",
    "FROM ventas\n",
    "WHERE idproducto = 89;\n",
    "\n",
    "--Seleccionar el titulo y el año de estreno de las películas emitidas en \n",
    "--1990 y 2000 y con una duración mayor a dos horas.\n",
    "SELECT titulo, year\n",
    "FROM peliculas\n",
    "WHERE year IN (1990,2000)\n",
    "AND duracion > 120\n",
    "\n",
    "--Selección del titulo e idioma de las películas con idioma ingles, \n",
    "--español o francés.\n",
    "SELECT titulo, idioma\n",
    "FROM peliculas\n",
    "WHERE idioma IN ('English', 'French', 'Spanish')\n",
    "\n",
    "--todos los detalles de las películas en español estrenadas después del 2000, \n",
    "--pero antes del 2010\n",
    "SELECT * FROM peliculas\n",
    "WHERE idioma = 'Spanish'\n",
    "AND year > 2000 \n",
    "AND year < 2010\n",
    "\n",
    "--Obtener el porcentaje de personas que ya no están vivas. Alias el resultado como porcentaje_muerto. ¡Recuerda usar 100.0 y no 100!.\n",
    "SELECT (count(muerte)*100.0)/count(*) AS porcentaje_muerto\n",
    "FROM persona\n",
    "\n",
    "--Seleccionar el número de años entre la película mas vieja y la mas nueva. establezca el resultado como 'diferencia'.\n",
    "SELECT max(year) - min(year) AS diferencia \n",
    "FROM peliculas\n"
   ]
  },
  {
   "cell_type": "markdown",
   "id": "84f8457c",
   "metadata": {},
   "source": [
    "Todos los registros puede implicar además extraer toda la información de cada variable (columna) de una tabla determinada. El siguiente fragmento extrae toda la información de la tabla clientes, sin filtro de ningún tipo."
   ]
  },
  {
   "cell_type": "code",
   "execution_count": null,
   "id": "abcf0af0",
   "metadata": {
    "vscode": {
     "languageId": "sql"
    }
   },
   "outputs": [],
   "source": [
    "SELECT * FROM clientes\n",
    "\n",
    "--Los clientes de Concepción (condición simple).\n",
    "SELECT * \n",
    "FROM clientes \n",
    "WHERE ciudad = 'Concepción'\n",
    "\n",
    "--subconjunto de columnas (información parcial).\n",
    "SELECT nombre, apellido, cargo, correo \n",
    "FROM clientes\n",
    "\n",
    "--Condición múltiple.\n",
    "SELECT * \n",
    "FROM clientes \n",
    "WHERE ciudad = 'Concepción' AND edad >= 45\n",
    "AND fecha IS NOT NULL\n",
    "\n",
    "--Condición múltiple con OR.\n",
    "SELECT * \n",
    "FROM clientes \n",
    "WHERE (ciudad = 'Concepción' AND edad >= 45 OR estado = TRUE)\n",
    "AND fecha IS NOT NULL"
   ]
  },
  {
   "cell_type": "markdown",
   "id": "609185df",
   "metadata": {},
   "source": [
    "### Ejemplos de agregaciones"
   ]
  },
  {
   "cell_type": "code",
   "execution_count": null,
   "id": "ecc3b446",
   "metadata": {
    "vscode": {
     "languageId": "sql"
    }
   },
   "outputs": [],
   "source": [
    "--El total de productos vendidos.\n",
    "SELECT sum(cantidad)\n",
    "FROM ventas;\n",
    "\n",
    "--La mayor cantidad de venta de un producto.\n",
    "SELECT max(cantidad)\n",
    "FROM ventas;\n",
    "\n",
    "--Total de unidades vendidas por producto (los primeros 5 más vendidos).\n",
    "SELECT idproducto, sum(cantidad) as total\n",
    "FROM ventas\n",
    "GROUP BY idproducto\n",
    "HAVING cantidad > 0\n",
    "ORDER BY total DESC\n",
    "LIMIT 5;\n",
    "\n",
    "--Cuantas consultas por usuario medico (simple).\n",
    "SELECT count(idmedico), ex_idm as medicos \n",
    "FROM consultas c \n",
    "GROUP BY idmedico\n",
    "\n",
    "--Lista de edades y cantidad de pacientes para cada edad.\n",
    "SELECT DISTINCT count(*),pa_edad \n",
    "FROM bio_pacientes bp GROUP BY pa_edad\n",
    "ORDER BY pa_edad\n",
    "\n",
    "--Encontrar la mayor diferencia en el total de puntajes de todas las tareas. Mostrar la diferencia.\n",
    "SELECT MAX(puntaje)-MIN(puntaje) AS diferencia \n",
    "FROM\n",
    "  (SELECT student,\n",
    "          SUM(tarea1 + tarea2 + tarea3) AS puntaje\n",
    "   FROM clase_puntajes\n",
    "   GROUP BY student) a;"
   ]
  },
  {
   "cell_type": "markdown",
   "id": "0feaf57a",
   "metadata": {},
   "source": [
    "El promedio de la compensación según el cargo y el género del empleado. La compensación se calcula agregando el salario y el bono de cada empleado. No todos los empleados reciben el bono. Un empleado puede recibir más de un bono."
   ]
  },
  {
   "cell_type": "code",
   "execution_count": null,
   "id": "71969797",
   "metadata": {
    "vscode": {
     "languageId": "sql"
    }
   },
   "outputs": [],
   "source": [
    "SELECT e.employee_title, e.sex,\n",
    "AVG(e.salary + b.ttl_bonus) AS avg_compensation \n",
    "FROM sf_employee e\n",
    "INNER JOIN\n",
    "  (SELECT worker_ref_id,\n",
    "          SUM(bonus) AS ttl_bonus\n",
    "   FROM sf_bonus\n",
    "   GROUP BY worker_ref_id) b ON e.id = b.worker_ref_id \n",
    "GROUP BY employee_title, sex;\n",
    "\n",
    "--Número de tiendas abierta en domingo.\n",
    "SELECT sunday, COUNT(*) AS total_business\n",
    "FROM yelp_business_hours bh\n",
    "LEFT JOIN yelp_business b ON bh.business_id = b.business_id\n",
    "WHERE sunday IS NOT NULL\n",
    "AND is_open = 1\n",
    "GROUP BY sunday\n",
    "ORDER BY total_business DESC;\n",
    "\n",
    "--Total de ventas de Alicia y Renato.\n",
    "SELECT SUM(ventas) AS total_ventas FROM ventas_general\n",
    "WHERE vendedor = 'Alicia' OR vendedor = 'Renato'"
   ]
  },
  {
   "cell_type": "markdown",
   "id": "029396a2",
   "metadata": {},
   "source": [
    "### Categorías on CASE\n",
    "\n",
    "Define un serie de categorías en base al precio. Crea una nueva columna 'nivel' con la categoría evaluada."
   ]
  },
  {
   "cell_type": "code",
   "execution_count": null,
   "id": "07326ccf",
   "metadata": {
    "vscode": {
     "languageId": "sql"
    }
   },
   "outputs": [],
   "source": [
    "SELECT id, articulo, precio,\n",
    "  CASE precio WHEN < 500  THEN 'BAJO'\n",
    "             WHEN < 15000 THEN 'NORMAL'\n",
    "             ELSE 'AlTO'\n",
    "  END as nivel\n",
    "FROM ventas\n",
    "\n",
    "\n",
    "--Contabilizar cuantos productos estan en nivel ALTO.\n",
    "SELECT\n",
    "    COUNT(Id) AS itemes,\n",
    "    SUM ( CASE\n",
    "         WHEN nivel = 'ALTO' THEN 1\n",
    "          ELSE 0 END\n",
    "        ) AS itemes_altos\n",
    "FROM ventas"
   ]
  },
  {
   "cell_type": "markdown",
   "id": "504663c4",
   "metadata": {},
   "source": [
    "\n",
    "### Registros duplicados\n",
    "\n",
    "Uno de los problemas más acuciantes en el análisis de datos tiene que ver con este tema."
   ]
  },
  {
   "cell_type": "code",
   "execution_count": null,
   "id": "d5b4ced4",
   "metadata": {
    "vscode": {
     "languageId": "sql"
    }
   },
   "outputs": [],
   "source": [
    "\n",
    "SELECT max(pa_id), pa_apellido,pa_nombre, COUNT(pa_id) AS NumOccurrences\n",
    "FROM bio_pacientes\n",
    "GROUP BY pa_apellido, pa_nombre\n",
    "HAVING ( COUNT(pa_id) > 1 )\n",
    "\n",
    "--Alternativa.\n",
    "SELECT nombre, rut, COUNT(*) AS registros\n",
    "FROM clientes\n",
    "GROUP BY nombre, rut\n",
    "HAVING ( COUNT(*) > 1 ) \n",
    "\n",
    "--full detalle de cuales registros tienen duplicados\n",
    "SELECT * FROM\n",
    "    (\n",
    "    SELECT column_a, column_b, column_c, count(*) as records \n",
    "    FROM tabla1\n",
    "    GROUP BY 1,2,3\n",
    "   ) a\n",
    "WHERE records = 2\n",
    "\n",
    "--listar los registros duplicados en base a una columna determinada (col_1).\n",
    "SELECT id, col_1, col_2\n",
    "FROM (  SELECT  *, \n",
    "                COUNT(*) OVER(PARTITION BY col_1) N\n",
    "        FROM codigos) as A\n",
    "WHERE N > 1\n",
    "\n",
    "\n",
    "--Eliminar solo los duplicados.\n",
    "DELETE FROM tabla1\n",
    "WHERE NOT campo IN \n",
    "(select max(campo) \n",
    "FROM tabla1 GROUP BY campo)\n",
    "\n",
    "-- alternativa\n",
    "DELETE FROM tabla_1 a USING (\n",
    "SELECT MIN(ctid) as ctid, key\n",
    "    FROM tabla_1 \n",
    "    GROUP BY key HAVING COUNT(*) > 1\n",
    "    ) b\n",
    "WHERE a.key = b.key \n",
    "AND a.ctid <> b.ctid\n",
    "\n",
    "\n",
    "--En MySQL mediante una tabla temporal donde se registran los duplicados.\n",
    "CREATE temporary TABLE temp_table (id int);\n",
    "INSERT temporal_table\n",
    "        (id)\n",
    "SELECT id\n",
    "FROM your_table t1\n",
    "WHERE EXITS\n",
    "        (\n",
    "        SELECT *\n",
    "        FROM your_table t2\n",
    "        WHERE t2.col_1 = t1.col_1\n",
    "            and t2.col_2 = t1.col_2\n",
    "            and t2.col_3 = t1.col_3\n",
    "            and t2.id > t1.id\n",
    "        );\n",
    "\n",
    "-- ahora se compara ambas tablas para eliminar los duplicados\n",
    "DELETE\n",
    "FROM your_table\n",
    "WHERE id in (SELECT id FROM temporal_table);"
   ]
  },
  {
   "cell_type": "markdown",
   "id": "71e33b08",
   "metadata": {},
   "source": [
    "### Operadores lógicos\n",
    "Se basan en cumplir una condición que se evalua verdadero o falso."
   ]
  },
  {
   "cell_type": "code",
   "execution_count": null,
   "id": "dcd19d1e",
   "metadata": {
    "vscode": {
     "languageId": "sql"
    }
   },
   "outputs": [],
   "source": [
    "--Ambas condiciones deben cumplirse.\n",
    "SELECT *\n",
    "FROM clientes \n",
    "WHERE nacimiento > ‘1995-01-01’ AND puntos > 1000\n",
    "\n",
    "--Al menos una condición debe cumplirse.\n",
    "SELECT *\n",
    "FROM clientes \n",
    "WHERE nacimiento > ‘1995-01-01’ OR puntos > 1000\n",
    "\n",
    "--Negar cierta condición.\n",
    "SELECT *\n",
    "FROM clientes \n",
    "WHERE NOT (nacimiento > ‘1995-01-01’)\n",
    "\n",
    "--Clientes de alguna de las categorías.\n",
    "SELECT *\n",
    "FROM clientes \n",
    "WHERE estado IN ('A', 'B', 'C', 'D')\n",
    "\n",
    "--Entre un rango de fechas o números.\n",
    "SELECT *\n",
    "FROM clientes \n",
    "WHERE puntos BETWEEN 1000 AND 5000"
   ]
  },
  {
   "cell_type": "markdown",
   "id": "d23f545e",
   "metadata": {},
   "source": [
    "\n",
    "### Subconsultas\n",
    "\n",
    "Distribución de ordenes por cliente.\n",
    "\n",
    "```\n",
    "SELECT orders, count(*) as num_customers \n",
    "FROM\n",
    "(\n",
    "   SELECT customer_id, count(order_id) as orders \n",
    "   FROM orders\n",
    "   GROUP BY 1\n",
    ") a\n",
    "GROUP BY 1\n",
    "```\n",
    "\n",
    "Conocer el producto mas caro.\n",
    "\n",
    "```\n",
    "SELECT nombre, codigo, precio\n",
    "FROM productos\n",
    "WHERE precio=(SELET max(precio) FROM productos)\n",
    "```\n",
    "\n",
    "Las subconsultas que retornan un solo valor escalar se utiliza con un operador de comparación o en lugar de una expresión\n",
    "\n",
    "```\n",
    "SELECT CAMPOS\n",
    "FROM TABLA\n",
    "WHERE CAMPO OPERADOR (SUBCONSULTA)\n",
    "\n",
    "SELECT CAMPO OPERADOR (SUBCONSULTA)\n",
    "FROM TABLA\n",
    "```\n",
    "\n",
    "Conocer el valor de un artículo determinado ('pesa') y la diferencia con el artículo mas costoso.\n",
    "\n",
    "```\n",
    "SELECT articulo, precio,\n",
    "precio - (SELECT max(precio) FROM libros) as diferencia\n",
    "FROM productos\n",
    "WHERE articulo = 'pesa'\n",
    "```\n",
    "\n",
    "Actualizamos el precio del producto con el valor mayor:.\n",
    "\n",
    "```\n",
    "UPDATE productos SET precio=45\n",
    "WHERE valor = (SELECT max(valor) FROM productos)\n",
    "```\n"
   ]
  },
  {
   "cell_type": "markdown",
   "id": "21eec097",
   "metadata": {},
   "source": [
    "\n",
    "### Pivot\n",
    "\n",
    "Una tabla de pivoteo es una manera de resumir datos en forma de filas y columnas. Dado por los atributos de una columna donde la intersección de fila y columna se utiliza un valor de tipo estadístico como suma , cuenta o promedio. Cuadro resumen de las ventas de cada producto por fecha."
   ]
  },
  {
   "cell_type": "code",
   "execution_count": null,
   "id": "6addb9ac",
   "metadata": {
    "vscode": {
     "languageId": "sql"
    }
   },
   "outputs": [],
   "source": [
    "\n",
    "SELECT fecha, \n",
    "sum(case WHEN product = 'polera' THEN monto ELSE 0 END) as poleras,\n",
    "sum(case WHEN product = 'camisa' THEN monto ELSE 0 END) as camisas,\n",
    "sum(case WHEN product = 'zapato' THEN monto ELSE 0 END) as zapatos\n",
    "FROM ordenes\n",
    "GROUP BY 1\n",
    "\n",
    "--Promedio de valor de propiedades por comuna y numero de dormitorios.\n",
    "\n",
    "\n",
    "SELECT comuna,\n",
    "   avg(valor) FILTER (WHERE dormitorio = 1) AS \"1\",\n",
    "   avg(valor) FILTER (WHERE dormitorio = 2) AS \"2\",\n",
    "   avg(valor) FILTER (WHERE dormitorio = 3) AS \"3\",\n",
    "   avg(valor) FILTER (WHERE dormitorio = 4) AS \"4\"\n",
    "FROM propiedades\n",
    "GROUP BY comuna;\n",
    "\n",
    "\n",
    "SELECT * FROM   \n",
    "(\n",
    "    SELECT \n",
    "        category_name, \n",
    "        product_id\n",
    "    FROM \n",
    "        production.products p\n",
    "        INNER JOIN production.categories c \n",
    "            ON c.category_id = p.category_id\n",
    ") t \n",
    "PIVOT(\n",
    "    COUNT(product_id) \n",
    "    FOR category_name IN (\n",
    "        [Children], \n",
    "        [Comfort], \n",
    "        [Cruisers], \n",
    "        [Cyclocross], \n",
    "        [Electric], \n",
    "        [Mountain], \n",
    "        [Road])\n",
    ") AS pivot_table;\n",
    "\n",
    "\n",
    "--Agregando el año del modelo.\n",
    "SELECT * FROM   \n",
    "(\n",
    "    SELECT \n",
    "        category_name, \n",
    "        product_id,\n",
    "        model_year\n",
    "    FROM \n",
    "        production.products p\n",
    "        INNER JOIN production.categories c \n",
    "            ON c.category_id = p.category_id\n",
    ") t \n",
    "PIVOT(\n",
    "    COUNT(product_id) \n",
    "    FOR category_name IN (\n",
    "        [Children], \n",
    "        [Comfort], \n",
    "        [Cruisers], \n",
    "        [Cyclocross], \n",
    "        [Electric], \n",
    "        [Mountain], \n",
    "        [Road])\n",
    ") AS pivot_table;\n",
    "\n",
    "\n",
    "--En PostgreSQL se requiere habilitar la función tablefunc (`CREATE` `extension tablefunc;`) para utilizar crosstab.\n",
    "\n",
    "--Seleccionar el puntaje obtenido de cada alumno en cada examen.\n",
    "\n",
    "\n",
    "SELECT * \n",
    "FROM crosstab(\n",
    "'SELECT nombre, examen, puntaje \n",
    " FROM examenes ORDER BY 1,2')\n",
    "AS notas (nombre varchar(15),examen1 int, examen2 int, \n",
    "examen3 int, examen4 int);"
   ]
  },
  {
   "cell_type": "markdown",
   "id": "ff368d6b",
   "metadata": {},
   "source": [
    "\n",
    "### Series de tiempo\n",
    "\n",
    "Los análisis de series de tiempo es un tipo común de necesidad de análisis de datos, según necesitamos conocer el comportamiento de una característica en el tiempo, ya sean ventas de productos, ingresos, etc.\n",
    "\n",
    "La característica principal es el tiempo el que debe ser en formato date o timestamp.\n",
    "\n",
    "Las funciones generales para manejo de iempo son date_part o extract **date_part**('periodo', variable) **extract**('periodo' from variable) donde variable en nuestro columna en formato timestamp y periodo puede ser:\n",
    "\n",
    "-   microsecond\n",
    "-   millisecond\n",
    "-   second\n",
    "-   minute\n",
    "-   hour\n",
    "-   day\n",
    "-   week\n",
    "-   month\n",
    "-   quarter\n",
    "-   year\n",
    "-   decade\n",
    "-   century\n",
    "-   millennium\n",
    "\n",
    "Cuadro comparativo de ventas de cada articulo segun fecha de venta. Esto alimenta un gráfico de comparación de cada producto."
   ]
  },
  {
   "cell_type": "code",
   "execution_count": null,
   "id": "4b548404",
   "metadata": {
    "vscode": {
     "languageId": "sql"
    }
   },
   "outputs": [],
   "source": [
    "\n",
    "SELECT date_part('year', fecha) as anual, productos, \n",
    "sum(venta) as total\n",
    "FROM ventas\n",
    "WHERE productos IN ('camisa','pantalon','zapato', 'juego')\n",
    "GROUP BY 1,2\n",
    "\n",
    "--Cálculo de la diferencia entre 2 áreas de ventas, secciones masculina y femenina.\n",
    "\n",
    "SELECT date_part('year',sales_month) as ventas_year,\n",
    "sum(CASE WHEN kind_of_business = 'Mujer' THEN ventas end) \n",
    "as venta_mujer,\n",
    "sum(CASE WHEN kind_of_business = 'Hombre' THEN ventas end) \n",
    "as venta_hombre\n",
    "FROM ventas\n",
    "WHERE tipo_seccion IN ('Hombre', 'Mujer')\n",
    "GROUP BY 1\n",
    "\n",
    "--Cálculo de la diferencia entre 2 áreas de ventas, secciones masculina y femenina.\n",
    "\n",
    "SELECT ventas_year, \n",
    "    venta_mujer - venta_hombre as womens_minus_mens,\n",
    "    venta_hombre - venta_mujer as mens_minus_womens \n",
    "FROM (\n",
    "    SELECT date_part('year',sales_month) as ventas_year,\n",
    "    sum(CASE WHEN kind_of_business = 'Mujer' THEN ventas end) \n",
    "    as venta_mujer,\n",
    "    sum(CASE WHEN kind_of_business = 'Hombre' THEN ventas end) \n",
    "    as venta_hombre\n",
    "    FROM ventas\n",
    "    WHERE tipo_seccion IN ('Hombre', 'Mujer')\n",
    "    GROUP BY 1\n",
    ") a"
   ]
  },
  {
   "cell_type": "markdown",
   "id": "695bd4e4",
   "metadata": {},
   "source": [
    "\n",
    "### Uniones (JOIN)\n",
    "\n",
    "La herramienta más potente en el modelo relacional. Las sentencias JOIN permiten el uso de datos provenientes de dos o más tablas utilizando como conector entre ellas una columna cómun. Esta columna debe ser del mismo tipo de datos, y generalmente es la clave primaria de ellas (aunque no necesariamente).\n",
    "\n",
    "#### LEFT JOIN\n",
    "\n",
    "LEFT JOIN o LEFT OUTER JOIN obtiene todos lod datos de la primera tabla (o tablaba izquierda), y solamenta las filas que coinciden desde la segunda tabla (o tabla derecha). en caso de no haber coincidencias desde esta última tabla muestra solo valores nulos.\n",
    "\n",
    "Recuperando filas desde una tabla que no poseen correspondencia de filas a otra tabla y mantiene solo las filas que no corresponden (anti-join).\n"
   ]
  },
  {
   "cell_type": "markdown",
   "id": "4c3dff4d",
   "metadata": {},
   "source": [
    "\n",
    "```\n",
    "SELECT d.*\n",
    "FROM departamentos d LEFT OUTER JOIN empleados e\n",
    "ON (d.depto = e.depto)\n",
    "WHERE e.deptno is null\n",
    "```\n",
    "\n",
    "Seleccionar registros de dos tablas y luego correlacionar con una tercera tabla. empleados y departamentos y bono entregado (no todos los empleados reciben bono).\n",
    "\n",
    "```\n",
    "SELECT e.ename, d.loc, eb.bono\n",
    "FROM empleados e \n",
    "JOIN departamentos d ON (e.deptno=d.deptno)\n",
    "LEFT JOIN bonos eb ON (e.empno=eb.empno)\n",
    "ORDER BY 2\n",
    "```\n",
    "\n",
    "Seleccionar registros de dos tablas y luego correlacionar con una tercera tabla. empleados y departamentos y bono entregado (no todos los empleados reciben bono)\n",
    "\n",
    "```\n",
    "SELECT e.ename, d.loc,\n",
    "    (SELECT eb.bono FROM bonos eb\n",
    "         WHERE eb.empno=e.empno) as bono\n",
    "FROM empleados e, departamentos d\n",
    "WHERE e.deptno=d.deptno\n",
    "```\n",
    "\n",
    "Clientes sin ordenes de compra.\n",
    "\n",
    "```\n",
    "SELECT distinct a.cliente_id\n",
    "FROM transacciones a\n",
    "LEFT JOIN clientes b ON a.cliente_id = b.cliente_id \n",
    "WHERE b.cliente_id IS NULL\n",
    "```\n",
    "\n",
    "Cuantos pacientes hay de cada comuna.\n",
    "\n",
    "```\n",
    "SELECT count(*) cantidad, co_id codigo, co_comuna as comuna \n",
    "FROM pacientes p\n",
    "LEFT JOIN comunas c on (p.pa_comuna = c.co_id)\n",
    "WHERE pa_comuna !='00000'\n",
    "GROUP BY co_id, pa_comuna\n",
    "ORDER BY cantidad DESC;\n",
    "```\n",
    "\n",
    "Cuantas consultas por usuario medico (completo).\n",
    "\n",
    "```\n",
    "SELECT count(ex_idm),md_nombre||' '||md_apellido , ex_idm as medicos \n",
    "FROM consultas c \n",
    "LEFT JOIN medicos ON (ex_idm=md_id)\n",
    "GROUP BY ex_idm, md_nombre||' '||md_apellido\n",
    "```\n"
   ]
  },
  {
   "cell_type": "markdown",
   "id": "a46c4e45",
   "metadata": {},
   "source": [
    "#### INNER JOIN\n",
    "\n",
    "INNER JOIN o JOIN regresa solamente los registros coincidentes en ambas tablas."
   ]
  },
  {
   "cell_type": "markdown",
   "id": "a5e237b8",
   "metadata": {},
   "source": [
    "```\n",
    "-- sentencia general\n",
    "SELECT *\n",
    "FROM table_1\n",
    "INNER JOIN table_2\n",
    "ON table_1.column_name = table_2.column_name\n",
    "\n",
    "-- forma simplificada\n",
    "SELECT * FROM table_1 JOIN table_2\n",
    "ON table_1.column_name = table_2.column_name\n",
    "```\n",
    "\n",
    "Detalles de orden y producto.\n",
    "\n",
    "```\n",
    "-- \n",
    "\n",
    "SELECT a.*,b.* \n",
    "FROM ventas as a \n",
    "INNER JOIN \n",
    "productos as b \n",
    "ON a.idproducto = b.idproducto\n",
    "```\n",
    "\n",
    "Encontrar el total de camas (beds) por nacionalidad dentro de los registros de Airbnb, en las tablas airbnd_apartments con airbnd_hosts mediante la columna relacionada \"host_id\".\n",
    "\n",
    "```\n",
    "SELECT nationality, SUM(n_beds) AS total_beds_available\n",
    "FROM airbnb_hosts h\n",
    "INNER JOIN airbnb_apartments a ON h.host_id = a.host_id \n",
    "GROUP BY nationality\n",
    "ORDER BY total_beds_available DESC;\n",
    "```\n",
    "\n",
    "Esta consulta devolverá los datos de la tabla 1 cuyos campos coincidan con los de la tabla2 con una clave y los datos que no estén en la tabla 1 al compararlos con la tabla2 con una condición y una clave.\n",
    "\n",
    "```\n",
    "select *\n",
    "from Table1 t1\n",
    "inner join Table2 t2 on t1.ID_Column = t2.ID_Column\n",
    "left join Table3 t3 on t1.ID_Column = t3.ID_Column \n",
    "where t2.column_name = column_value\n",
    "and t3.ID_Column is null order by t1.column_name;\n",
    "```\n"
   ]
  },
  {
   "cell_type": "markdown",
   "id": "079261e4",
   "metadata": {},
   "source": [
    "#### OUTER JOIN\n",
    "\n",
    "**LEFT OUTER JOIN**\n",
    "\n",
    "Devuelve todas las filas de la tabla izquierda, emparejadas con las filas de la tabla derecha en las que se cumplen las condiciones de la cláusula ON. Las filas en las que no se cumple la cláusula ON tienen NULL en todas las columnas de la tabla derecha\n",
    "\n",
    "```\n",
    "SELECT * FROM table_1 AS t1\n",
    "LEFT JOIN table_2 AS t2 ON t1.ID_Column = t2.ID_Column\n",
    "```\n",
    "\n",
    "**RIGHT OUTER JOIN**\n",
    "\n",
    "Devuelve todas las filas de la tabla derecha, emparejadas con las filas de la tabla izquierda en las que se cumplen las condiciones de la cláusula ON. Las filas en las que no se cumple la cláusula ON tienen NULL en todas las columnas de la tabla izquierda.\n",
    "\n",
    "```\n",
    "SELECT * FROM table_1 AS t1\n",
    "RIGHT JOIN table_2 AS t2 ON t1.ID_Column = t2.ID_Column\n",
    "```\n",
    "\n",
    "**FULL OUTER JOIN**\n",
    "\n",
    "Se devuelven todas las filas de ambas tablas, independientemente de que se cumplan las condiciones de la cláusula ON. Las filas que no satisfacen la cláusula ON se devuelven con NULL en todas las columnas de la tabla opuesta (es decir, para una fila de la tabla izquierda, todas las columnas de la tabla derecha contendrán NULL, y viceversa).\n",
    "\n",
    "```\n",
    "SELECT * FROM table_1 AS t1\n",
    "FULL JOIN table_2 AS t2 ON t1.ID_Column = t2.ID_Column\n",
    "```"
   ]
  },
  {
   "cell_type": "markdown",
   "id": "8ae9fe3b",
   "metadata": {},
   "source": [
    "#### SELF JOIN\n",
    "\n",
    "Una tabla puede unirse a sí misma en lo que se conoce como autounión, donde combina registros de la tabla con otros registros de la misma tabla. Estas autouniones suelen utilizarse en consultas en las que se define una jerarquía en las columnas de la tabla.\n"
   ]
  },
  {
   "cell_type": "code",
   "execution_count": null,
   "id": "36c2ce9c",
   "metadata": {
    "vscode": {
     "languageId": "sql"
    }
   },
   "outputs": [],
   "source": [
    "\n",
    "--Lista de empleados con sus respectivos jefes desde la tabla de empleados.\n",
    "SELECT empleados.Name, jefes.Name AS jefe\n",
    "FROM empleados\n",
    "INNER JOIN empleados AS jefes\n",
    "ON empleados.Boss_ID = jefes.ID"
   ]
  },
  {
   "cell_type": "markdown",
   "id": "064f3e4d",
   "metadata": {},
   "source": [
    "#### UNION\n",
    "\n",
    "Apilando registros de 2 o mas tablas. Deben tener las mismas cantidad de columnas y tipo de dato. Incluye los duplicados si existen."
   ]
  },
  {
   "cell_type": "code",
   "execution_count": null,
   "id": "2b645213",
   "metadata": {
    "vscode": {
     "languageId": "sql"
    }
   },
   "outputs": [],
   "source": [
    "SELECT nombre, departamento\n",
    "FROM empleados\n",
    "WHERE deptno = 20\n",
    "UNION ALL\n",
    "    SELECT deptnombre, deptno\n",
    "    FROM departamentos\n",
    "    UNION ALL\n",
    "        SELECT '++++', NULL\n",
    "        FROM tabla1\n",
    "\n",
    "--No se incluyen los duplicados.\n",
    "SELECT nombre, departamento\n",
    "FROM empleados\n",
    "WHERE deptno = 20\n",
    "UNION\n",
    "    SELECT deptnombre, deptno\n",
    "    FROM departamentos\n",
    "    UNION\n",
    "        SELECT '++++', '++++'\n",
    "        FROM tabla1\n",
    "\n",
    "\n",
    "--Seleccionar las filas de dos o más tablas combinando la información de varias columnas.\n",
    "SELECT e.ename, d.loc,\n",
    "FROM empleados e, departamentos d\n",
    "WHERE e.deptno = d.deptno\n",
    "AND deptno = 10\n",
    "\n",
    "-- alternativa\n",
    "SELECT e.ename, d.loc,\n",
    "FROM empleados e INNER JOIN departamentos d\n",
    "ON (e.deptno = d.deptno)\n",
    "WHERE deptno = 10\n",
    "\n",
    "\n",
    "--Encontrar filas iguales entre 2 tablas, esto es filas similares en valores.\n",
    "SELECT col1,col2,col3,col4,col5\n",
    "FROM tabla1\n",
    "WHERE (col2,col3,col4) in (\n",
    "    SELECT col2,col3,col4 FROM tabla1\n",
    "    INTERSECT\n",
    "    SELECT col2,col3,col4 FROM tabla2\n",
    ")\n",
    "\n",
    "-- version alternativa\n",
    "SELECT e.empno,e.ename,e.job,e.sal,e.deptno\n",
    "FROM tabla1 e JOIN tabla2\n",
    "ON (e.ename = v.ename\n",
    "and e.job = v.job\n",
    "and e.sal = v.sal )\n",
    "\n",
    "--Actualizar en base a un join.\n",
    "UPDATE usuarios AS u \n",
    "SET rute = r.rut, id=r.idf,\n",
    "passwd=md5(substring(r.rut from 1 for 4))\n",
    "FROM ruts AS r\n",
    "WHERE u.id = r.ido "
   ]
  },
  {
   "cell_type": "markdown",
   "id": "2ba25745",
   "metadata": {},
   "source": [
    "### Control de Datos (DCL)\n",
    "\n",
    "Son una colección de comandos destinados al control del acceso a los objetos y estructuras de la base de datos. Los comandos utilizados son GRANT y REVOQUE (otorgar y denegar respectivamente).\n",
    "\n",
    "**Grant** define los privilegios de acceso a los diversos objetos dentro de la base de datos. El estándar SQL no permite establecer los privilegios en más de un objeto por comando.\n",
    "\n",
    "**Revoque** elimina los permisos otorgados previamente por GRANT.\n",
    "\n",
    "Los privilegios son:\n",
    "\n",
    "-   `SELECT`\n",
    "-   `INSERT`\n",
    "-   `UPDATE`\n",
    "-   `DELETE`\n",
    "-   `TRUNCATE`\n",
    "-   `REFERENCES`\n",
    "-   `TRIGGER`\n",
    "-   `CREATE`\n",
    "-   `CONNECT`\n",
    "-   `TEMPORARY`\n",
    "-   `EXECUTE`\n",
    "-   `USAGE`\n",
    "\n",
    "### Ejemplos"
   ]
  },
  {
   "cell_type": "code",
   "execution_count": null,
   "id": "9a085389",
   "metadata": {
    "vscode": {
     "languageId": "sql"
    }
   },
   "outputs": [],
   "source": [
    "\n",
    "-- forma general de GRANT\n",
    "GRANT { { SELECT | INSERT | UPDATE | DELETE | TRUNCATE | \n",
    "    REFERENCES | TRIGGER }\n",
    "    [, ...] | ALL [ PRIVILEGES ] }\n",
    "    ON { [ TABLE ] table_name [, ...]\n",
    "         | ALL TABLES IN SCHEMA schema_name [, ...] }\n",
    "    TO role_specification [, ...] [ WITH GRANT OPTION ]\n",
    "    [ GRANTED BY role_specification ]\n",
    "\n",
    "\n",
    "--Otorga pivilegios de ingreso a todos los usuarios para la tabla films:\n",
    "GRANT INSERT ON films TO PUBLIC;\n",
    "\n",
    "--Otorga todos los privilegios al usuario manuel en la tabla clientes.\n",
    "GRANT ALL PRIVILEGES ON clientes TO manuel;\n",
    "\n",
    "--Permite la membresia en el grupo admins al usuario manuel\n",
    "GRANT admins TO manuel;\n",
    "\n",
    "--Forma general de REVOQUE.\n",
    "REVOKE [ GRANT OPTION FOR ]\n",
    "    { { SELECT | INSERT | UPDATE | DELETE | TRUNCATE | \n",
    "    REFERENCES | TRIGGER }\n",
    "    [, ...] | ALL [ PRIVILEGES ] }\n",
    "    ON { [ TABLE ] table_name [, ...]\n",
    "         | ALL TABLES IN SCHEMA schema_name [, ...] }\n",
    "    FROM role_specification [, ...]\n",
    "    [ GRANTED BY role_specification ]\n",
    "    [ CASCADE | RESTRICT ]\n",
    "\n",
    "\n",
    "--Revoca el privilegio de insertar para el el usuario public en l atabla films\n",
    "REVOKE INSERT ON films FROM PUBLIC; \n",
    "\n",
    "--Revoca todos los privilegios al usuario manuel para la tabla clientes.\n",
    "REVOKE ALL PRIVILEGES ON clientes FROM manuel;\n",
    "\n",
    "--Revoca la membresia del grupo admins al usuario manuel\n",
    "REVOKE admins FROM manuel;"
   ]
  },
  {
   "cell_type": "markdown",
   "id": "6999ead9",
   "metadata": {},
   "source": [
    "## Control de Transacciones (TCL)\n",
    "\n",
    "Una transacción es una agrupación de acciones que se comportan como una unidad. Estas deben cumplir 4 propiedades fundamentales conocidas como ACID (atomicidad, coherencia, asilamiento y durabilidad).\n",
    "\n",
    "-   **Atomicidad**: Una transacción es indivisible, o se ejecutan todas la sentencias o no se ejecuta ninguna.\n",
    "\n",
    "-   **Consistencia**: Después de una transacción la base de datos estará en un estado válido y consistente.\n",
    "\n",
    "-   **Aislamiento**: Cada transacción está aislada del resto de transacciones y que el acceso a los datos se hará de forma exclusiva. Si una transacción que quiere acceder de forma concurrente a los datos que están siendo utilizados por otra transacción, no podrá hacerlo hasta que la primera haya terminado.\n",
    "\n",
    "-   **Durabilidad**: Los cambios que realiza una transacción sobre la base de datos son permanentes.\n",
    "\n",
    "Una sentencia simple de SQL es una transacción autocompletada (autocommit)"
   ]
  },
  {
   "cell_type": "code",
   "execution_count": null,
   "id": "c74327c5",
   "metadata": {
    "vscode": {
     "languageId": "sql"
    }
   },
   "outputs": [],
   "source": [
    "UPDATE Products SET UnitPrice=20 WHERE ProductName ='Chai'"
   ]
  },
  {
   "cell_type": "markdown",
   "id": "410bec1c",
   "metadata": {},
   "source": [
    "Este tipo de sentencias se escriben en el fichero de transacciones de la base de datos y se realizan los cambios en la base de datos. En caso de problemas algunos motores de datos automaticamente retornan al estado anterior.\n",
    "\n",
    "Cuando se deben generar varias sentencias como parte de un proceso es necesario ejercer control sobre estas acciones. Es decir debe cumplirse el todo o nada.\n",
    "\n",
    "### Ejemplos"
   ]
  },
  {
   "cell_type": "code",
   "execution_count": null,
   "id": "911340ab",
   "metadata": {
    "vscode": {
     "languageId": "sql"
    }
   },
   "outputs": [],
   "source": [
    "\n",
    "-- mysql\n",
    "START TRANSACTION;\n",
    "UPDATE cuentas SET saldo = saldo - 100 WHERE id = 1;\n",
    "UPDATE cuentas SET saldo = saldo + 100 WHERE id = 2;\n",
    "COMMIT;\n",
    "\n",
    "-- postgresql\n",
    "BEGIN TRANSACTION;\n",
    "UPDATE cuentas SET saldo = saldo - 100 WHERE id = 1;\n",
    "UPDATE cuentas SET saldo = saldo + 100 WHERE id = 2;\n",
    "COMMIT;\n",
    "\n",
    "--Estableciendo un punto de retorno en my_savepoint en caso de error.\n",
    "BEGIN;\n",
    "UPDATE accounts SET balance = balance - 100.00\n",
    "    WHERE name = 'Alice';\n",
    "SAVEPOINT my_savepoint;\n",
    "UPDATE accounts SET balance = balance + 100.00\n",
    "    WHERE name = 'Bob';\n",
    "-- oops ... forget that and use Wally's account\n",
    "ROLLBACK TO my_savepoint;\n",
    "UPDATE accounts SET balance = balance + 100.00\n",
    "    WHERE name = 'Wally';\n",
    "COMMIT;"
   ]
  },
  {
   "cell_type": "markdown",
   "id": "95761a72",
   "metadata": {},
   "source": [
    "### Procedimientos\n",
    "\n",
    "Los procedimientos[^09-sql-2], más comunmente conocidos como procedimientos almacenados (Store Procedure) son un conjunto de instrucciones destinados a ejecutar un proceso específico. Estos pueden aceptar parámetros de entrada y salida, y pueden devolver ya sea un valor o un conjunto de registros. Los motores más utilizados de bases de datos como Oracle, MySQL, PostgreSQL y otros, permiten el uso de estos procedimientos.\n",
    "\n",
    "[^09-sql-2]: Documentación completa en su sitio oficial [ver enlace](https://www.postgresql.org/docs/15/sql-createprocedure.html)\n",
    "\n",
    "En cada petición SQL se establece una comunicación entre el cliente que genera el SQL y el servidor que traduce esta petición para generar los resultados esperados y los transmite por la red hacia el cliente, cada petición entonces generará más tráfico. Una forma de reducir este tráfico y que varias interacciones se generen dentro del servidor antes de entregar el resultado final al cliente es mediante el uso de procedimientos almacenados (PA).\n",
    "\n",
    "Como el PA se ejecuta en el servidor de base de datos, todas las instrucciones se ejecutan directamente en el servidor y una vez obtenidos los resultados estos son enviados al cliente. Además, si se realiza un cambio al PA este se activará para todos los clientes que lo utilicen, centralizando la lógica empresarial de la base de datos.\n",
    "\n",
    "Estos PA entonces tienen la función primordial de hacer más eficiente el uso de la base de datos, ya que podemos generar una serie de procesos encadenados que se activen dentro del servidor, en lugar de realizar estos procesos uno a uno, donde cada proceso además significa una interrelación cliente y servidor lo que conlleva a un mayor tráfico de datos y tiempo.\n",
    "\n",
    "Los PA se pueden escribir en variadod lenguajes de programación, esto depende del motor utilizado, PostgreSQL admite: : PL/pgSQL, PL/Perl, PL/Tcl y PL/Python\n",
    "\n",
    "El lenguaje disponible automáticamente en PostgreSQL es PL/pgSQL. Para utilizar PL/Perl, PL/Tcl o PL/Python tiene que ser configurado o compilado en PostgreSQL con estos parámetros `--with-perl` `--with-tcl` `--with-python`.\n",
    "\n",
    "Tambien existen muchos otros lenguajes disponibles como módulos adicionales, como, PL/Java, PL/PHP, PL/R, PL/Ruby, PL/Sheme y PL/sh. Para su uso deben descargarse e instalarse en forma individual.\n",
    "\n",
    "El lenguaje de procedimientos [^09-sql-3] es similar al PL/SQL de Oracle y esta disponible por defecto en cada instalación de PostgreSQL. Se utiliza para:\n",
    "\n",
    "[^09-sql-3]: Para una referencia completa de este lenguaje [ver este enlace](https://www.postgresql.org/docs/current/plpgsql.html).\n",
    "\n",
    "-   Creación de procedimientos, funciones y disparadores\n",
    "-   Generar estructuras de control\n",
    "-   Realización de operaciones y cálculos complejos\n",
    "\n",
    "Este lenguaje es estructurado en forma de bloques."
   ]
  },
  {
   "cell_type": "code",
   "execution_count": null,
   "id": "8b419014",
   "metadata": {
    "vscode": {
     "languageId": "sql"
    }
   },
   "outputs": [],
   "source": [
    "CREATE [ OR REPLACE ] FUNCTION \n",
    "nombre_funcion([  [ argnombre ] argtipo ]) \n",
    "RETURNS tipo AS $$\n",
    "\n",
    "[ DECLARE ]\n",
    " [ declaraciones de variables ]\n",
    "\n",
    "BEGIN\n",
    "  codigo  \n",
    "END;\n",
    "$$ LANGUAGE plpgsql\n",
    "   | IMMUTABLE | STABLE | VOLATILE\n",
    "   | CALLED ON NULL INPUT | RETURNS NULL ON NULL INPUT | STRICT\n",
    "   | [ EXTERNAL ] SECURITY INVOKER | [ EXTERNAL ] SECURITY DEFINER\n",
    "   | COST execution_cost\n",
    "   | ROWS result_rows\n",
    "   | SET configuration_parameter { TO value | = value | FROM CURRENT }\n",
    ";"
   ]
  },
  {
   "cell_type": "markdown",
   "id": "4ef9680d",
   "metadata": {},
   "source": [
    "**Nota**. Cuando se crea un PA para reemplazar uno existente, los permisos y autoría del PA no son alterados. Por tanto se debe tener permisos de propietario para reemplazarlo.\n",
    "\n",
    "**Nota**. Al reemplazar un PA existente no pueden cambiarse los nombres de sus argumentos o sus tipos. De lo contrario se creará un nuevo PA. Por tanto, pueden existir PA con el mismo nombre pero que difieren en sus argumentos (en nombre y/o tipo)."
   ]
  },
  {
   "cell_type": "code",
   "execution_count": null,
   "id": "1f2463e3",
   "metadata": {
    "vscode": {
     "languageId": "sql"
    }
   },
   "outputs": [],
   "source": [
    "CREATE OR REPLACE FUNCTION ejemplo(integer) \n",
    "RETURNS integer AS $$\n",
    "BEGIN\n",
    " RETURN $1;\n",
    "END;\n",
    "$$ LANGUAGE plpgsql;"
   ]
  },
  {
   "cell_type": "markdown",
   "id": "31a1e639",
   "metadata": {},
   "source": [
    "### Para qué procedimientos almacenados?\n",
    "\n",
    "En primer lugar para mejorar el rendimiento de la aplicación. Cada ejecución se realiza en el servidor de la base de datos sin interacción con el cliente ni tener que procesar resultados intermedios.\n",
    "\n",
    "Para simplificar la aplicación. Al delegar algunas funciones dentro de la base de datos y ahorrar por tanto complejidad en el desarrollo de la aplicación. Al tener la lógica de proceso dentro de la base de datos, esta se aplicará en forma independiente a la aplicación utilizada desde el lado del cliente. Por tanto nuestra capacidad de conocer a cabalidad nuestro motor de datos puede permitir alivianar muchas tareas complejas en la aplicación cliente.\n",
    "\n",
    "**NOTA**: El lado negativo de esta propuesta reside en que al vincular ciertos procesos a la base de datos utilizada, condiciona que la aplicación cliente debe mantenerse vinculada a esta y no podrá fácilmente ser utilizada con otro motor de datos.\n",
    "\n",
    "Cuando tenemos relaciones entre tablas con la condición ON CASCADE, en que si eliminamos un registro en una tabla, posiblemente podemos eliminar a su vez los registros asociados en otra tabla y así sucesivamente. Pero con PA podemos establecer nuevas rutinas de relaciones: podremos establecer que al actualizar un registro de una tabla se realicen operaciones aritméticas en otros registros asociados, eliminar algunos, actualizar otros, y así sucesivamente. El cielo es el límite o nuestra capacidad de manejar procesos complejos, lo que ocurra primero.\n",
    "\n",
    "### Ejemplos"
   ]
  },
  {
   "cell_type": "code",
   "execution_count": null,
   "id": "d3423694",
   "metadata": {
    "vscode": {
     "languageId": "sql"
    }
   },
   "outputs": [],
   "source": [
    "\n",
    "-- el tipico Hola mundo SQL Server\n",
    "CREATE PROCEDURE HolamundoProcedure\n",
    "AS\n",
    "PRINT 'Hola mundo'\n",
    "\n",
    "-- ejecutarlo...\n",
    "exec HolamundoProcedure\n",
    "\n",
    "\n",
    "--Creación de un PA en SQL Server.\n",
    "--PA que toma el nombre de un autor para retornar una frase del tipo:\n",
    "-- \"Baldomero Lillo es de Chile\"\"\n",
    "\n",
    "CREATE PROCEDURE GetNombre\n",
    "(\n",
    "  @input_id INT = NULL,     \n",
    "  @name VARCHAR(128) = NULL \n",
    "AS \n",
    "BEGIN\n",
    "  SELECT Name + ' es de ' + Country \n",
    "  FROM Autores\n",
    "  WHERE Id = @input_id OR Name = @name\n",
    "END \n",
    "GO\n",
    "\n",
    "-- llamada al PA\n",
    "EXECUTE GetName @id = 1\n",
    "ó\n",
    "EXEC Getname @name = 'Baldomero Lillo'\n",
    "\n",
    "--Creación de un PA en PostgreSQL.\n",
    "CREATE OR REPLACE PROCEDURE DeleteItem\n",
    "(\n",
    "  item INT\n",
    ")\n",
    "LANGUAGE plpgsql AS\n",
    "$$\n",
    "BEGIN\n",
    "  DELETE FROM  table_itemes WHERE id_item = item;\n",
    "END\n",
    "$$\n",
    "\n",
    "-- llamada al procedimiento\n",
    "CALL DeleteItem(4)"
   ]
  },
  {
   "cell_type": "markdown",
   "id": "d0eebbc8",
   "metadata": {},
   "source": [
    "### Funciones\n",
    "\n",
    "A diferencia de los procedimientos almacenados, las funciones siempre deben devolver un valor, y tiene solo parámetros de entrada y una cláusula de retorno que debe estar declarado en el encabezado.\n",
    "\n",
    "Las funciones son seguras al estar dentro de la base de datos, de manera que oculta detalles a la aplicación.\n",
    "\n",
    "Formato de declaración de funcion. entre \\[\\] indica opcional."
   ]
  },
  {
   "cell_type": "code",
   "execution_count": null,
   "id": "c2ced09d",
   "metadata": {
    "vscode": {
     "languageId": "sql"
    }
   },
   "outputs": [],
   "source": [
    "CREATE [OR REPLACE] \n",
    "FUNCTION nombre_de_funcion(argumento IN tipo_de_dato)\n",
    "RETURN tipo_de_dato\n",
    "AS\n",
    "BEGIN\n",
    "  codigo\n",
    "END [nombre_de_funcion]"
   ]
  },
  {
   "cell_type": "markdown",
   "id": "03744880",
   "metadata": {},
   "source": [
    "Nota\n",
    "Un procedimiento almacenado (PA) puede llamar a funciones propias de SQL o de tipo UDF, pero una función no puede llamar a un PA.\n",
    "\n",
    "### Ejemplos"
   ]
  },
  {
   "cell_type": "code",
   "execution_count": null,
   "id": "de851c3e",
   "metadata": {
    "vscode": {
     "languageId": "sql"
    }
   },
   "outputs": [],
   "source": [
    "--Cálculo de área de un circulo dado el radio.\n",
    "CREATE OR REPLACE FUNCTION area_circulo(radio IN NUMBER)\n",
    "RETURN NUMBER\n",
    "IS\n",
    "    pi NUMBER := 3.14;\n",
    "    area NUMBER;\n",
    "BEGIN\n",
    "   area := pi * POWER(radio, 2);\n",
    "   RETURN area;\n",
    "END area_circulo;\n",
    "\n",
    "-- llamada\n",
    "SELECT area_circulo(45)\n",
    "\n",
    "--Regresa todas los artículos de la tabla itemes.\n",
    "CREATE OR REPLACE FUNCTION GetAllItemes()\n",
    "RETURNS itemes\n",
    "LANGUAGE SQL\n",
    "AS\n",
    "$$\n",
    "  SELECT * FROM itemes;\n",
    "$$\n",
    "\n",
    "-- llamada\n",
    "SELECT GetAllItemes()\n",
    "\n",
    "--El Hola mundo SQL server.\n",
    "CREATE FUNCTION dbo.HolamundoFunction()\n",
    "RETURNS varchar(20)\n",
    "AS \n",
    "BEGIN\n",
    "\t RETURN 'Hello world'\n",
    "END\n",
    "\n",
    "-- ejecutarlo\n",
    "SELECT HolamundoFunction() as resultado"
   ]
  },
  {
   "cell_type": "markdown",
   "id": "1d299ca2",
   "metadata": {},
   "source": [
    "Toma como argumento una fecha en formato date y la convierte en texto con un formato especifico de 'DD-MM-YYYY' (ej: 25-12-2022). Para ello usa la funcion propia de PostgreSQL 'to_char' para la conversion en texto.\n",
    "\n",
    "El formato de fecha en las bases de datos se almacenan por defecto en el formato 'YYYY-MM-DD' (ej: 2022-12-25)"
   ]
  },
  {
   "cell_type": "code",
   "execution_count": null,
   "id": "e8e9f7d1",
   "metadata": {
    "vscode": {
     "languageId": "sql"
    }
   },
   "outputs": [],
   "source": [
    "CREATE OR REPLACE FUNCTION date_format(fecha date)\n",
    "RETURNS text\n",
    "LANGUAGE sql\n",
    "AS \n",
    "$function$\n",
    "  SELECT to_char($1, 'DD-MM-YYYY')\n",
    "$function$;\n",
    "\n",
    "--Igual a la función anterior pero esta vez acepta un formato de fecha que incluye la hora.\n",
    "CREATE OR REPLACE \n",
    "FUNCTION date_format(fecha timestamp without time zone, \n",
    "  formato character varying)\n",
    " RETURNS text\n",
    " LANGUAGE sql\n",
    "AS \n",
    "$function$\n",
    "SELECT to_char($1, 'DD-MM-YYYY')\n",
    "$function$;\n",
    "\n",
    "--Esta vez se incluye un argumento adicional a la fecha que fuerza el formato de fecha de salida.\n",
    "CREATE OR REPLACE FUNCTION date_format(fecha date, \n",
    "  formato character varying)\n",
    " RETURNS text\n",
    " LANGUAGE sql\n",
    "AS \n",
    "$function$\n",
    "  SELECT to_char($1, 'DD-MM-YYYY')\n",
    "$function$;\n",
    "\n",
    "--Esta vez la función toma un texto con un formato de fecha y lo convierte en una fecha real. Utiliza la función --estandar 'to_date' para la conversion de formato.\n",
    "CREATE OR REPLACE FUNCTION public.date_format2(text)\n",
    "RETURNS date\n",
    "LANGUAGE sql\n",
    "AS \n",
    "$function$\n",
    "SELECT to_date($1, 'DD-MM-YY')\n",
    "$function$;\n",
    "\n",
    "--Esta vez toma una fecha en modo de texto y la transforma en un formato de fecha propio de postgresql, \n",
    "--con formato largo.\n",
    "CREATE OR REPLACE FUNCTION public.date_formatpg(text)\n",
    "RETURNS date\n",
    "LANGUAGE sql\n",
    "AS \n",
    "$function$\n",
    "SELECT to_date($1, 'YYYY-MM-DD')\n",
    "$function$;\n",
    "\n",
    "--Esta vez se controla si la fecha es nula, en cuyo caso devolverá ''.\n",
    "CREATE OR REPLACE FUNCTION pgdate(text)\n",
    " RETURNS date\n",
    " LANGUAGE sql\n",
    "AS \n",
    "$function$\n",
    "SELECT to_date(NULLIF($1,''), 'DD-MM-YYYY')\n",
    "$function$;\n",
    "\n",
    "\n",
    "--Idem anterior pero recibiendo una fecha.\n",
    "CREATE OR REPLACE FUNCTION pgdate(date)\n",
    " RETURNS date\n",
    " LANGUAGE sql\n",
    "AS $function$\n",
    "SELECT to_date(NULLIF(to_char($1,'YYYY-MM-DD'),''),'YYYY-MM-DD')\n",
    "$function$;\n"
   ]
  },
  {
   "cell_type": "markdown",
   "id": "aa51d199",
   "metadata": {},
   "source": [
    "Funciones algo más complejas."
   ]
  },
  {
   "cell_type": "code",
   "execution_count": null,
   "id": "cd9b6d42",
   "metadata": {
    "vscode": {
     "languageId": "sql"
    }
   },
   "outputs": [],
   "source": [
    "--Función con dos argumentos y definición de variables.\n",
    "CREATE OR REPLACE FUNCTION sumacien(integer, integer) \n",
    "RETURNS integer AS $$\n",
    "DECLARE\n",
    "  numero1 ALIAS FOR $1;\n",
    "  numero2 ALIAS FOR $2;\n",
    "\n",
    "  constante CONSTANT integer := 100;\n",
    "  resultado integer;\n",
    "\n",
    "BEGIN\n",
    "  resultado := (numero1 * numero2) + constante;\n",
    "  RETURN resultado;\n",
    "END;\n",
    "$$ LANGUAGE plpgsql;\n",
    "\n",
    "-- llamada de la función\n",
    "SELECT sumacien(5, 20)\n",
    "\n",
    "\n",
    "--Inclusion de IF...THEN, toma dos numeros y devuelve un string de la comparación entre los numeros ingresados\n",
    "CREATE OR REPLACE FUNCTION ejemplo_txt(integer, integer) \n",
    "RETURNS text AS $$\n",
    "DECLARE\n",
    " A ALIAS FOR $1;\n",
    " B ALIAS FOR $2;\n",
    "\n",
    " constante CONSTANT integer := 100;\n",
    " resultado INTEGER;\n",
    "\n",
    " resultado_txt TEXT DEFAULT 'El resultado final es NULO'; \n",
    "\n",
    "BEGIN\n",
    " resultado := (A * B) + constante;\n",
    "\n",
    " IF resultado <> 190 THEN\n",
    "    resultado_txt :=  'El resultado es menor a 190';\n",
    " END IF;\n",
    "\n",
    " RETURN resultado_txt;\n",
    "END;\n",
    "$$ LANGUAGE plpgsql;\n",
    "\n",
    "-- llamada a ejemplotxt\n",
    "SELECT ejemplotxt(5,8)"
   ]
  },
  {
   "cell_type": "markdown",
   "id": "c14ad951",
   "metadata": {},
   "source": [
    "## Procedimientos vs Funciones\n",
    "\n",
    "-   Un procedimiento no puede devolver un valor, una función sí (aunque ambos puedan devolver datos en parámetros `OUT` e `IN OUT`, [ver ejemplos](http://www.postgresonline.com/journal/archives/129-Use-of-OUT-and-INOUT-Parameters.html) aunque sean para postgres).\n",
    "\n",
    "-   De lo anterior podemos deducir que las funciones se usan como parte de una expresión (`campo1 * función(campo2)`), los procedimientos no.\n",
    "\n",
    "-   La instrucción `return` devuelve el control al programa que la llama y entrega los resultados en ella, en el procedimiento devuelve el control al programa que la llamó pero no devuelve un valor.\n",
    "\n",
    "-   Las funciones pueden ser llamadas desde instrucciones SQL (`SELECT`, `UPDATE`, `DELETE`, etc) y los procedimientos no (deben ser llamados de manera independiente mediante un CALL).\n",
    "\n",
    "-   Procedimientos: Ejecutar una serie de consultas, modificaciones en diferentes tablas o cálculos entre ellas que serían complejas en una única instrucción SQL y no requiere de un valor de retorno.\n",
    "\n",
    "-   Funciones: Cálculo de un valor que será usado en una consulta SQL (como campo de un resultado `SELECT`, asignación de valor en un `UPDATE` o como filtro en un `WHERE`) a partir de parámetros de entrada, ya sea accediendo a datos de diferentes tablas o bien a partir únicamente de los parámetros de entrada."
   ]
  },
  {
   "cell_type": "markdown",
   "id": "d2b35ea3",
   "metadata": {},
   "source": [
    "### Disparadores (Triggers)\n",
    "\n",
    "Los disparadores se encargan de activar una determinada function cuando ocurre un cierto evento ya sea en una tabla, vista o una tabla foránea. Estos disparadores se activan cuando se modifica la data mediante cualquier evento de una sentencia DML (Data Manipulation Language), esto incluye por cierto INSERT, UPDATE, DELETE o TRUNCATE. Se utilizan para ejecutar reglas de negocio en los datos, auditar o validar datos.\n",
    "\n",
    "Estructura de un trigger\n"
   ]
  },
  {
   "cell_type": "code",
   "execution_count": null,
   "id": "4baad520",
   "metadata": {
    "vscode": {
     "languageId": "sql"
    }
   },
   "outputs": [],
   "source": [
    "CREATE TRIGGER triggername}\n",
    "{BEFORE | AFTER} {INSERT | UPDATE| DELETE }\n",
    "ON tablename FOR EACH ROW\n",
    "codigo;\n",
    "\n",
    "CREATE [OR REPLACE] TRIGGER nombre_de_trigger\n",
    "BEFORE -- contexto de tiempo\n",
    "INSERT -- acción\n",
    "ON nombre_de_tabla\n",
    "FOR EACH ROW\n",
    "BEGIN\n",
    "  codigo\n",
    "END;"
   ]
  },
  {
   "cell_type": "markdown",
   "id": "415405af",
   "metadata": {},
   "source": [
    "\n",
    "El contexto de tiempo aplica a una de las siguientes situaciones:\n",
    "\n",
    "**BEFORE**: Solo se aplica a tablas y antes de verificar las restricciones. Es útil para chequear las restricciones de datos en aquellas situaciones donde no se puede verificar la integridad de ellos mediante las referencias.\n",
    "\n",
    "**AFTER**: Solo aplica en tablas y después de realizar las operaciones. Se emplea para ejercer cambios en otras tablas en cascada.\n",
    "\n",
    "**INSTEAD OF**: Se aplica en vistas, para hacerlas actualizables.\n",
    "\n",
    "Eventos de trigger para tablas.\n",
    "\n",
    "| Evento     | SQL    | Nivel        |\n",
    "|------------|--------|--------------|\n",
    "| BEFORE     | DELETE | FOR EACH ROW |\n",
    "| BEFORE     | DELETE |              |\n",
    "| BEFORE     | INSERT | FOR EACH ROW |\n",
    "| BEFORE     | INSERT |              |\n",
    "| BEFORE     | UPDATE | FOR EACH ROW |\n",
    "| BEFORE     | UPDATE |              |\n",
    "| AFTER      | DELETE | FOR EACH ROW |\n",
    "| AFTER      | DELETE |              |\n",
    "| AFTER      | INSERT | FOR EACH ROW |\n",
    "| AFTER      | INSERT |              |\n",
    "| AFTER      | UPDATE | FOR EACH ROW |\n",
    "| AFTER      | UPDATE |              |\n",
    "| INSTEAD OF | DELETE | FOR EACH ROW |\n",
    "| INSTEAD OF | DELETE |              |\n",
    "| INSTEAD OF | INSERT | FOR EACH ROW |\n",
    "| INSTEAD OF | INSERT |              |\n",
    "| INSTEAD OF | UPDATE | FOR EACH ROW |\n",
    "| INSTEAD OF | UPDATE |              |\n",
    "\n",
    "### Ejemplos\n"
   ]
  },
  {
   "cell_type": "markdown",
   "id": "ef934c87",
   "metadata": {},
   "source": [
    "### Referencias\n",
    "\n",
    "-   [Historia y evolución](https://www.universidadviu.com/co/actualidad/nuestros-expertos/lenguaje-sql-historia-y-conceptos-basicos#:~:text=Historia%20del%20lenguaje%20SQL,se%20cre%C3%B3%20el%20lenguaje%20SQL.)\n",
    "-   [SQL w3schools](https://www.w3schools.com/sql/default.asp)\n",
    "-   <https://www.postgresql.org/docs/13/index.html>\n",
    "-   <https://www.w3schools.com/sql/sql_foreignkey.asp>\n",
    "-   <https://docs.microsoft.com/en-us/sql/relational-databases/tables/create-foreign-key-relationships?view=sql-server-ver15>\n",
    "-   <https://dev.mysql.com/doc/refman/8.0/en/create-table-foreign-keys.html>\n",
    "-   <https://www.postgresqltutorial.com/psql-commands/>"
   ]
  }
 ],
 "metadata": {
  "kernelspec": {
   "display_name": "Python 3 (ipykernel)",
   "language": "python",
   "name": "python3"
  },
  "language_info": {
   "codemirror_mode": {
    "name": "ipython",
    "version": 3
   },
   "file_extension": ".py",
   "mimetype": "text/x-python",
   "name": "python",
   "nbconvert_exporter": "python",
   "pygments_lexer": "ipython3",
   "version": "3.13.5"
  }
 },
 "nbformat": 4,
 "nbformat_minor": 5
}
